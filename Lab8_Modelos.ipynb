{
  "cells": [
    {
      "cell_type": "markdown",
      "source": [
        "<h1><center>Laboratorio 8: Aprendizaje Supervisado 🔮</center></h1>\n",
        "\n",
        "<center><strong>MDS7202: Laboratorio de Programación Científica para Ciencia de Datos</strong></center>"
      ],
      "metadata": {
        "id": "XUZ1dFPHzAHl",
        "cell_id": "e651654461c3474fb2b0d36de22a6c14",
        "deepnote_cell_height": 103.53334045410156,
        "deepnote_cell_type": "markdown"
      }
    },
    {
      "cell_type": "markdown",
      "source": [
        "### Cuerpo Docente:\n",
        "\n",
        "- Profesor: Pablo Badilla y Ignacio Meza\n",
        "- Auxiliar: Sebastián Tinoco\n",
        "- Ayudante: Felipe Arias y Diego Cortez"
      ],
      "metadata": {
        "id": "UD8X1uhGzAHq",
        "cell_id": "7a6943958920482eb851e608d1efb6ac",
        "deepnote_cell_type": "markdown"
      }
    },
    {
      "cell_type": "markdown",
      "source": [
        "### Equipo: SUPER IMPORTANTE - notebooks sin nombre no serán revisados\n",
        "\n",
        "- Nombre de alumno 1: Lennin Chamorro\n",
        "- Nombre de alumno 2: Martin Reyes\n"
      ],
      "metadata": {
        "id": "tXflExjqzAHr",
        "cell_id": "0202c4ed94184a289e51ca5325b8afba",
        "deepnote_cell_height": 139.5,
        "deepnote_cell_type": "markdown"
      }
    },
    {
      "cell_type": "markdown",
      "source": [
        "### **Link de repositorio de GitHub:** `https://github.com/Landilus/Lab_prog_cientifica`"
      ],
      "metadata": {
        "id": "AD-V0bbZzAHr",
        "cell_id": "ce180f8cd3f3485fabbe6c0959a648db",
        "deepnote_cell_height": 61.28334045410156,
        "deepnote_cell_type": "markdown"
      }
    },
    {
      "cell_type": "markdown",
      "source": [
        "## Temas a tratar\n",
        "\n",
        "- Aprendizaje Supervisado\n",
        "- Flujos de datos a través de `Pipelines`.\n",
        "\n",
        "## Reglas\n",
        "\n",
        "- **Grupos de 2 personas**\n",
        "- Asistencia **obligatoria** a instrucciones del lab (viernes 16.15). Luego, pueden quedarse trabajando en las salas o irse.\n",
        "- **No se revisarán entregas de personas ausentes**. \n",
        "- Cualquier duda fuera del horario de clases al foro. Mensajes al equipo docente serán respondidos por este medio.\n",
        "- Prohibidas las copias. \n",
        "- Pueden usar cualquer matrial del curso que estimen conveniente.\n",
        "\n",
        "## Objetivos principales del laboratorio\n",
        "\n",
        "- Comprender el funcionamiento de clasificadores/regresores.\n",
        "- Generar múltiples modelos predictivos.\n",
        "- Comprender las ventajas de crear modelos en pipeline vs hacer las operaciones a mano.\n",
        "\n",
        "El laboratorio deberá ser desarrollado sin el uso indiscriminado de iteradores nativos de python (aka \"for\", \"while\"). La idea es que aprendan a exprimir al máximo las funciones optimizadas que nos entrega `pandas`, las cuales vale mencionar, son bastante más eficientes que los iteradores nativos sobre `DataFrames`."
      ],
      "metadata": {
        "id": "6uBLPj1PzAHs",
        "cell_id": "df3ab193db4a4f09ac25dbe605e3a83a",
        "deepnote_cell_height": 603.8499755859375,
        "deepnote_cell_type": "markdown"
      }
    },
    {
      "cell_type": "markdown",
      "source": [
        "### Importamos librerias utiles 😸"
      ],
      "metadata": {
        "id": "MhISwri4zAHy",
        "cell_id": "ad2df18de2544420960174a3f424bc5c",
        "deepnote_cell_height": 61.133331298828125,
        "deepnote_cell_type": "markdown"
      }
    },
    {
      "cell_type": "code",
      "source": [
        "# Libreria Core del lab.\n",
        "import numpy as np\n",
        "import pandas as pd\n",
        "from sklearn.pipeline import Pipeline\n",
        "from sklearn.compose import ColumnTransformer\n",
        "from sklearn.model_selection import train_test_split \n",
        "\n",
        "# Pre-procesamiento\n",
        "from sklearn.preprocessing import MinMaxScaler\n",
        "from sklearn.preprocessing import StandardScaler\n",
        "from sklearn.preprocessing import FunctionTransformer\n",
        "from sklearn.preprocessing import PowerTransformer\n",
        "from sklearn.preprocessing import OneHotEncoder\n",
        "from sklearn.tree import DecisionTreeClassifier\n",
        "\n",
        "# Metricas de evaluación\n",
        "from sklearn.metrics import classification_report\n",
        "from sklearn.metrics import accuracy_score\n",
        "from sklearn.metrics import f1_score\n",
        "from sklearn.metrics import cohen_kappa_score\n",
        "\n",
        "#Libreria para plotear\n",
        "!pip install --upgrade plotly\n",
        "import plotly.express as px\n",
        "from plotly.subplots import make_subplots\n",
        "import plotly.graph_objects as go"
      ],
      "metadata": {
        "id": "uyc33dKdzAHy",
        "colab": {
          "base_uri": "https://localhost:8080/"
        },
        "cell_id": "c99537db269c4b04970732c3cccac0c9",
        "outputId": "3ef82e15-9a16-4995-fce8-ed32c37a185b",
        "ExecuteTime": {
          "end_time": "2021-03-29T00:08:16.884674Z",
          "start_time": "2021-03-29T00:08:16.349846Z"
        },
        "source_hash": "cb3614e",
        "owner_user_id": "badcc427-fd3d-4615-9296-faa43ec69cfb",
        "execution_start": 1636741163382,
        "execution_millis": 7630,
        "deepnote_to_be_reexecuted": false,
        "deepnote_cell_type": "code"
      },
      "outputs": [
        {
          "output_type": "stream",
          "name": "stdout",
          "text": [
            "Looking in indexes: https://pypi.org/simple, https://us-python.pkg.dev/colab-wheels/public/simple/\n",
            "Requirement already satisfied: plotly in /usr/local/lib/python3.10/dist-packages (5.15.0)\n",
            "Requirement already satisfied: tenacity>=6.2.0 in /usr/local/lib/python3.10/dist-packages (from plotly) (8.2.2)\n",
            "Requirement already satisfied: packaging in /usr/local/lib/python3.10/dist-packages (from plotly) (23.1)\n"
          ]
        }
      ],
      "execution_count": 1
    },
    {
      "cell_type": "markdown",
      "source": [
        "https://www.kaggle.com/antoinekrajnc/soccer-players-statistics"
      ],
      "metadata": {
        "id": "5FTGE74b3FBU",
        "cell_id": "3960faa7a101458896294c72b4b0758c",
        "deepnote_cell_height": 51.53334045410156,
        "deepnote_cell_type": "markdown"
      }
    },
    {
      "cell_type": "markdown",
      "source": [
        "# 1. Predicciones Futboleras\n",
        "\n",
        "<p align=\"center\">\n",
        "  <img src=\"https://drive.google.com/uc?export=view&id=1BnO4tyh3vM2P199Ec9s3JjngQ4qQ9seP\"\n",
        "\" width=\"300\">\n",
        "</p>\n",
        "\n",
        "\n",
        "Tras el trágico despido de la mítica mascota de Maipú, Renacín decide adentrarse como consultor en el mercado futbolero, el cuál (para variar...) está cargado en especulaciones. \n",
        "\n",
        "Como su principal tarea será asesorar a los directivos de los clubes sobre cuál jugador comprar y cuál no, Renacín desea generar modelos predictivos que evaluén distintas características de los jugadores; todo con el fin de tomar decisiones concretas basadas en los datos.\n",
        "\n",
        "Sin embargo, su condición de corporeo le impidió tomar la versión anterior de MDS7202, por lo que este motivo Renacín contrata a su equipo para lograr su objetivo final. Dado que aún tiene fuertes vínculos con la dirección de deportes de la municipalidad, el corporeo le entrega base de datos con las estadísticas de cada jugador para que su equipo empieze a trabajar ya con un dataset listo para ser usado.\n"
      ],
      "metadata": {
        "id": "xpOTbQcxbSiy",
        "cell_id": "f9e9147f05744f749e29d4134157f1f3",
        "deepnote_cell_height": 305.933349609375,
        "deepnote_cell_type": "markdown"
      }
    },
    {
      "cell_type": "markdown",
      "source": [
        "**Los Datos**\n",
        "\n",
        "Para este laboratorio deberán trabajar con los csv `statsplayers.csv` y `salarios.pickle`, donde deberán aplicar algoritmos de de aprendizaje supervisado (clasificación y regresión) en base a características que describen de jugadores de futbol.\n",
        "\n",
        "Para comenzar cargue el dataset señalado y a continuación vea el reporte **`Player_Stats_Report.html`** (adjunto en la carpeta del enunciado) que describe las características principales del `DataFrame`."
      ],
      "metadata": {
        "id": "jnmZfFpxTTYX",
        "cell_id": "5b831ae5e73547a1ae5f96b453f1ab2d",
        "deepnote_cell_height": 169.13333129882812,
        "deepnote_cell_type": "markdown"
      }
    },
    {
      "cell_type": "code",
      "source": [
        "# Si usted está utilizando Colabolatory le puede ser útil este código para cargar los archivos.\n",
        "#try:\n",
        "#    from google.colab import drive\n",
        "#    drive.mount(\"/content/drive\")\n",
        "#    path = 'Dirección donde tiene los archivos en el Drive'\n",
        "#except: \n",
        "#    print('Ignorando conexión drive-colab')"
      ],
      "metadata": {
        "id": "Jqq-s010Iwl1",
        "cell_id": "9b9505acaf3f4906bbfc1950b04d9dca",
        "source_hash": "c60dc4a7",
        "execution_start": 1636741171022,
        "execution_millis": 7,
        "deepnote_to_be_reexecuted": false,
        "deepnote_cell_type": "code"
      },
      "outputs": [],
      "execution_count": 2
    },
    {
      "cell_type": "code",
      "source": [
        "df_players = pd.read_csv('/content/stats_players.csv')\n",
        "df_players['National_Position'] = df_players['National_Position'].apply(lambda x: 0 if pd.isnull(x) else 1)\n",
        "df_players = df_players.astype(\n",
        "    {\n",
        "        \"Nationality\": \"category\",\n",
        "        \"National_Position\": \"category\",\n",
        "        \"Club_Position\": \"category\",\n",
        "        \"Preffered_Foot\": \"category\",\n",
        "        \"Work_Rate\": \"category\"\n",
        "    }\n",
        ")\n",
        "print(f'En el dataframe hay {df_players.isnull().sum().sum()} valores nulos')\n",
        "print(f'En el dataframe hay {df_players.duplicated().sum()} datos duplicados')"
      ],
      "metadata": {
        "id": "bED3w3tDbSCf",
        "colab": {
          "base_uri": "https://localhost:8080/"
        },
        "cell_id": "bbd60dabcba44542826c491f69c1f53c",
        "outputId": "c65c84f3-d491-49af-f0fb-bcc92e7efe47",
        "source_hash": "65944a94",
        "execution_start": 1636742947300,
        "execution_millis": 184,
        "deepnote_to_be_reexecuted": false,
        "deepnote_cell_type": "code"
      },
      "outputs": [
        {
          "output_type": "stream",
          "name": "stdout",
          "text": [
            "En el dataframe hay 1 valores nulos\n",
            "En el dataframe hay 0 datos duplicados\n"
          ]
        }
      ],
      "execution_count": 62
    },
    {
      "cell_type": "code",
      "source": [
        "df_players = df_players.dropna()"
      ],
      "metadata": {
        "id": "6lm8kLOo9OLE"
      },
      "execution_count": 63,
      "outputs": []
    },
    {
      "cell_type": "markdown",
      "source": [
        "## 1.1 Predicción de Seleccionados Nacionales \n",
        "\n",
        "Como primera tarea, Renacín, intrigado por la posibilidad de saber qué tan reconocido es un jugador, le consulta a su equipo si es posible predecir si un jugador será o no seleccionado nacional a partir de sus estadísticas en el juego. \n",
        "\n",
        "<p align=\"center\">\n",
        "  <img src=\"https://thumbs.gfycat.com/ThornyFrankFoxhound-size_restricted.gif\" width=\"500\">\n",
        "</p>"
      ],
      "metadata": {
        "id": "2R3b7Qe501t5",
        "cell_id": "9e9e7d5dbc2f420ba40afb038a3c7b37",
        "owner_user_id": "d50c3174-babb-4861-9c71-7e3af66458b8",
        "deepnote_cell_height": 169.93333435058594,
        "deepnote_cell_type": "markdown"
      }
    },
    {
      "cell_type": "markdown",
      "source": [
        "### 1.1.1 Generación de Labels para la Clasificación [Sin Puntaje]\n",
        "\n",
        "\n",
        "Primero comience generando las labels para la clasificación. Para esto, trabaje sobre el atributo ```National_Position``` suponiendo que los valores nulos son jugadores no seleccionados para representar a su país. \n",
        "\n",
        "Hecho esto, ¿Cuantos ejemplos por cada clase se tienen? Comente lo que observa.\n",
        "\n"
      ],
      "metadata": {
        "id": "PIe_Ha58pQRC",
        "cell_id": "4fd0ec6793474c6e8dd304827ef35c74",
        "deepnote_cell_height": 158.3333282470703,
        "deepnote_cell_type": "markdown"
      }
    },
    {
      "cell_type": "markdown",
      "source": [
        "**Respuesta:**"
      ],
      "metadata": {
        "tags": [],
        "cell_id": "4bafb6f1da424f84be4eceb20d100d91",
        "deepnote_cell_height": 51.53334045410156,
        "deepnote_cell_type": "markdown",
        "id": "L8bNbPkN5rqQ"
      }
    },
    {
      "cell_type": "code",
      "source": [
        "df_players['National_Position'].value_counts()"
      ],
      "metadata": {
        "colab": {
          "base_uri": "https://localhost:8080/"
        },
        "id": "rZGN7DfLFZxF",
        "outputId": "3b1771a6-1d7e-4270-c201-d566878b609d"
      },
      "execution_count": 64,
      "outputs": [
        {
          "output_type": "execute_result",
          "data": {
            "text/plain": [
              "0    16512\n",
              "1     1075\n",
              "Name: National_Position, dtype: int64"
            ]
          },
          "metadata": {},
          "execution_count": 64
        }
      ]
    },
    {
      "cell_type": "markdown",
      "source": [
        "Vemos que las categorias estan desbalanceadas, hay muchos más jugadores No seleccionados que Jugadores Seleccioandos. Esto era de esperarse, ya que sólo un pequeño grupo de todos los jugadores profesionales es seleccionado para representar a su pais."
      ],
      "metadata": {
        "id": "mhxwerFgKkE1"
      }
    },
    {
      "cell_type": "markdown",
      "source": [
        "### 1.1.2 Camino a la clasificación [1 punto]\n",
        "\n",
        "<p align=\"center\">\n",
        "  <img src=\"https://c.tenor.com/SoXZJHWnhKAAAAAC/pitbull-medel.gif\" width=\"500\">\n",
        "</p>\n",
        "\n",
        "Para preprocesar el dataset, genere un `ColumnTransformer` en donde especifique las transformaciones que hay que realizar para cada columna (por ejemplo StandarScaler, MinMaxScaler, OneHotEncoder, etc...) para que puedan ser utilizadas correctamente por el modelo predictivo y guardelo en algúna variable.\n",
        "\n",
        "Luego, comente y justifique las transformaciones elegidas sobre cada una de las variables (para esto utilice el material ```Player_Stats_Report.html``` que viene en el zip del lab), al igual que las transformaciones aplicadas.\n",
        "\n",
        "Hecho lo anterior, **defina al menos 3 pipelines para la clasificación**, en donde utilice el mismo ColumnTransformer definido anteriormente, pero que varie entre cada pipeline los clasificadores. \n",
        "\n",
        "Para seleccionar los clasificadores más adecuados, utilice la siguiente guía:\n",
        "\n",
        "<p align=\"center\">\n",
        "  <img src=\"https://scikit-learn.org/stable/_static/ml_map.png\" width=\"500\">\n",
        "</p>\n",
        "\n",
        "<br/>\n",
        "\n",
        "Con ella, comente y justifique cada una de las decisiones tomadas al momento de desarrollar su pipeline.\n",
        "\n",
        "**Nota:** Si tiene problemas al utilizar OneHotEncoder puede utilizar el parámetro handle_unknown='ignore'. Esto hace que en la codificación se omitan las categorias que no aparecen en el entrenamiento. Pregunta dudosa (no tiene puntaje), ¿esto tiene sentido a nivel de modelos?.\n",
        "\n",
        "**To-Do:**\n",
        "\n",
        "- [ ] Genere un ```ColumnTransformer``` enfocado en preprocesar los datos.\n",
        "- [ ] Indicar y Justificar que preprocesamiento utiliza sobre cada columna.\n",
        "- [ ] Crear 3 ``pipelines`` con diferentes clasificadores.\n",
        "- [ ] Para seleccionar los clasificadores base sus decisiones en la siguiente [guía](https://scikit-learn.org/stable/tutorial/machine_learning_map/index.html)\n",
        "- [ ] No entrenar los ``pipelines`` aún.\n",
        "\n",
        "**Nota:** No es necesario entrenar los clasificadores aún."
      ],
      "metadata": {
        "id": "0F70XPRFpWH9",
        "cell_id": "882716f31dd4415983e3ed8e403ddcf0",
        "deepnote_cell_height": 678.1500244140625,
        "deepnote_cell_type": "markdown"
      }
    },
    {
      "cell_type": "code",
      "source": [
        "from sklearn.compose import ColumnTransformer\n",
        "from sklearn.pipeline import Pipeline\n",
        "from sklearn.preprocessing import OneHotEncoder\n",
        "from sklearn.preprocessing import OrdinalEncoder\n",
        "from sklearn.preprocessing import FunctionTransformer\n",
        "from sklearn.preprocessing import StandardScaler\n",
        "from sklearn.preprocessing import MinMaxScaler\n",
        "from sklearn.preprocessing import RobustScaler"
      ],
      "metadata": {
        "id": "yc8Y1814iksJ"
      },
      "execution_count": 5,
      "outputs": []
    },
    {
      "cell_type": "markdown",
      "source": [
        "**Respuesta:**"
      ],
      "metadata": {
        "tags": [],
        "cell_id": "494effcc7471436084ebd22e15296fb9",
        "deepnote_cell_height": 51.53334045410156,
        "deepnote_cell_type": "markdown",
        "id": "uwePJ7p35rqS"
      }
    },
    {
      "cell_type": "code",
      "source": [
        "#Atributos categoricos sin ordinalidad \n",
        "onehot =  ['Nationality', \n",
        "           'Club_Position',\n",
        "           'Preffered_Foot',\n",
        "           'Weak_foot',\n",
        "           'Skill_Moves'\n",
        "          ]\n",
        "#atributos categoricos que si poseen un orden\n",
        "catord =  ['Work_Rate'\n",
        "          ]\n",
        "#orden de los atributos categoricos ordinales\n",
        "ordinal_cat = [['Low / Low',\n",
        "               'Low / Medium',\n",
        "               'Low / High',\n",
        "               'Medium / Low',\n",
        "               'Medium / Medium',\n",
        "               'Medium / High',\n",
        "               'High / Low',\n",
        "               'High / Medium',\n",
        "               'High / High']\n",
        "          ]\n",
        "\n",
        "#Para aquellos atributos que siguen distribuciones bimodales\n",
        "lognornal = ['Ball_Control',\n",
        "             'Dribbling',\n",
        "             'Marking',\n",
        "             'Sliding_Tackle',\n",
        "             'Standing_Tackle',\n",
        "             'Interceptions',\n",
        "             'Crossing',\n",
        "             'Short_Pass',\n",
        "             'Long_Pass',\n",
        "             'Stamina',\n",
        "             'Penalties'\n",
        "             ]\n",
        "\n",
        "\n",
        "#Todos los atributos que siguen una distribción estandar o similar\n",
        "standard = ['Height',\n",
        "            'Weight',\n",
        "            'Age',\n",
        "            'Aggression',\n",
        "            'Reactions',\n",
        "            'Vision',\n",
        "            'Composure',\n",
        "            'Acceleration',\n",
        "            'Speed',\n",
        "            'Strength',\n",
        "            'Balance',\n",
        "            'Agility',\n",
        "            'Jumping',\n",
        "            'Curve',\n",
        "            'Volleys',\n",
        "            'Heading',\n",
        "            'Shot_Power'\n",
        "            ] \n",
        "\n",
        "#atributos cuya distribución no sigue una curva estandar y solo queremos distribuir los datos entre 0 y 1\n",
        "minmax = ['Finishing',\n",
        "          'Long_Shots',\n",
        "          'Freekick_Accuracy'\n",
        "           ]\n",
        "#Para aquellos datos que siguen una distribución normal pero poseen valores atipicos o outlayers\n",
        "robusta = [] #No se encontraron atributos con outlyers tan marcados\n",
        "\n",
        "#atributos que no se transformaran\n",
        "passthrough = [ 'National_Position'\n",
        "                #,'Name'     Esta variable no se usará\n",
        "                ]"
      ],
      "metadata": {
        "id": "GpGao5lgTtMr"
      },
      "execution_count": 65,
      "outputs": []
    },
    {
      "cell_type": "markdown",
      "source": [
        "###Selección de transformaciones\n",
        "Como se observa en los comentarios del Código, se seleccionaron las transformaciones según el tipo de distribución observada del atributo o si correspondía a un atributo categórico. \n",
        "\n",
        "De los atributos categóricos sólo Work_rate se consideró como una tributo en el cual se intuye un orden de magnitudes, para el resto se realizó la transformación Onehot.\n",
        "\n",
        "En cuanto a los atributos numéricos se observó una gran cantidad de casos en los que la distribución siguió una curva bimodal, teniendo una pequeña distribución normal en valores más bajos, señal de que posiblemente haya 2 grupos dentro del dataset. Para trabajar con ellos se sugirió una transformación log normal, separándolos de los casos donde la distribución seguía la curva clásica.\n",
        "\n",
        "Por último, se encontraron 3 atributos que tienen comportamientos difíciles de clasificar en alguna de las anteriores, por lo que para esos 3 casos se prefiere una transformación minmax.\n",
        "\n",
        "No se encontró presencia de outlyers marcados, así que no se usó transformación robusta, tampoco se incorporaron los nombres dentro de la transformación, pues no los consideramos un atributo relevante, eran demasiadas categorías, pasarlo a onehot era demasiado costoso y creemos que el nombre no debería ser un indicador para ser seleccionado Nacional.\n"
      ],
      "metadata": {
        "id": "XspqWMARQsum"
      }
    },
    {
      "cell_type": "code",
      "source": [
        "def log(x):\n",
        "    return np.log(x + 1)\n",
        "log_transform = FunctionTransformer(func = log)"
      ],
      "metadata": {
        "id": "DWc5ykQ2zwrD"
      },
      "execution_count": 66,
      "outputs": []
    },
    {
      "cell_type": "code",
      "source": [
        "transformer = ColumnTransformer(\n",
        "    transformers=[\n",
        "        ('onehotencoder', OneHotEncoder(sparse_output=False, handle_unknown='ignore'), onehot),  # \n",
        "        ('ordinales', OrdinalEncoder(categories = ordinal_cat), catord),  #\n",
        "        ('lognormal', log_transform, lognornal ),  #  \n",
        "        ('standard', StandardScaler(), standard),  # \n",
        "        ('minmax', MinMaxScaler(), minmax),   # \n",
        "    ])\n",
        "\n"
      ],
      "metadata": {
        "id": "hQCrGcr6hcdy"
      },
      "execution_count": 67,
      "outputs": []
    },
    {
      "cell_type": "code",
      "source": [
        "pip = Pipeline([('Preprocesing', transformer)])\n",
        "df_procesado = pip.fit_transform(df_players)\n",
        "df_procesado"
      ],
      "metadata": {
        "colab": {
          "base_uri": "https://localhost:8080/"
        },
        "id": "zeTR84wM8PJA",
        "outputId": "6473d51b-e812-4472-ba0b-73b328e38dd5"
      },
      "execution_count": 68,
      "outputs": [
        {
          "output_type": "execute_result",
          "data": {
            "text/plain": [
              "array([[0.        , 0.        , 0.        , ..., 0.97849462, 0.98850575,\n",
              "        0.80898876],\n",
              "       [0.        , 0.        , 0.        , ..., 1.        , 0.96551724,\n",
              "        0.96629213],\n",
              "       [0.        , 0.        , 0.        , ..., 0.93548387, 0.83908046,\n",
              "        0.8988764 ],\n",
              "       ...,\n",
              "       [0.        , 0.        , 0.        , ..., 0.27956989, 0.43678161,\n",
              "        0.35955056],\n",
              "       [0.        , 0.        , 0.        , ..., 0.12903226, 0.09195402,\n",
              "        0.08988764],\n",
              "       [0.        , 0.        , 0.        , ..., 0.09677419, 0.13793103,\n",
              "        0.07865169]])"
            ]
          },
          "metadata": {},
          "execution_count": 68
        }
      ]
    },
    {
      "cell_type": "markdown",
      "source": [
        "###Selección de Modelos\n",
        "\n",
        "Basandonos en la guía hicimos el siguiente análisis para seleccionar los modelos:\n",
        "\n",
        "*   Nuestro dataset consiste de atributos con sus etiquetas(Seleccionado Nacional)ideal para modelos de aprendizaje Supervisado. \n",
        "*   El largo del dataset es de un poco más de 17.500 jugadores la cual esta desbalanceadam siendo solo 1.000 de ellos de la clase seleccionado.\n",
        "\n",
        "En base a estos 2 puntos la guía nos sugiere comenzar el análisis con SVC, en caso de que los resultados no sean tan buenos, Aplicar NaiveBayes. Para seleccionar el tercer modelo se utilizara un arbol de decisión, el cual utilizaremos como baseline para comparar si tuvimos buenos o malos resultados.\n"
      ],
      "metadata": {
        "id": "NIbdemrW24NK"
      }
    },
    {
      "cell_type": "code",
      "source": [
        "from sklearn.naive_bayes import GaussianNB\n",
        "from sklearn.naive_bayes import BernoulliNB\n",
        "from sklearn.svm import SVC"
      ],
      "metadata": {
        "id": "IWsQhAw3nwUp"
      },
      "execution_count": 69,
      "outputs": []
    },
    {
      "cell_type": "code",
      "source": [
        "#Pipeline del Arbol de decisión\n",
        "tree_pipe = Pipeline([\n",
        "     (\"preprocesamiento\", transformer),\n",
        "     (\"tree\", DecisionTreeClassifier(criterion=\"entropy\"))\n",
        "    ])\n",
        "\n",
        "#Pipeline para NaiveBayes\n",
        "nb_pipe = Pipeline([\n",
        "        (\"preprocesamiento\", transformer), \n",
        "        (\"nb\", BernoulliNB())\n",
        "    ])\n",
        "\n",
        "#Pipeline para Support Vector Classification\n",
        "svc_pipe = Pipeline([\n",
        "    (\"preprocesamiento\", transformer), \n",
        "    (\"svc\", SVC())\n",
        "    ])"
      ],
      "metadata": {
        "id": "KPzqWE6VlbXz"
      },
      "execution_count": 70,
      "outputs": []
    },
    {
      "cell_type": "markdown",
      "source": [
        "### 1.1.3 Entrenemos los pipelines [1 punto]\n",
        "\n",
        "<p align=\"center\">\n",
        "  <img src=\"https://i.gifer.com/7Cc8.gif\" width=\"350\">\n",
        "</p>\n"
      ],
      "metadata": {
        "id": "MpKq6oO3vCNL",
        "cell_id": "b7fa6937d9a043fd93b7966fb0e81861",
        "deepnote_cell_height": 101.13333129882812,
        "deepnote_cell_type": "markdown"
      }
    },
    {
      "cell_type": "markdown",
      "source": [
        "Ahora, entrene los `pipeline` generados en los pasos anteriores. Para esto, primero separe los datos de entrenamiento en un conjunto de entrenamiento y de prueba  (la proporción queda a su juicio).\n",
        "\n",
        "En este paso, seleccione los ejemplos de forma aleatoria e intente mantener la distribución original de labels de cada clase en los conjuntos de prueba/entrenamiento. (vea la documentación de `train_test_split`).\n",
        "\n",
        "\n",
        "Luego, entrene los pipelines\n",
        "\n",
        "Una vez entrenado su modelo, evalue su rendimiento a través de diferentes métricas, comentando que significa cada uno de los valores obtenidos. Puede usar la función `classification_report` para corroborar sus resultados.\n",
        "\n",
        "- ¿Qué implican los valores de accuracy, precisión y recall de la clase positiva (la que indica que un jugador es seleccionado nacional)?\n",
        "- ¿Podrían mejorarse los resultados?, ¿Cómo?\n",
        "- ¿Influye la cantidad de ejemplos por clase?\n",
        "\n",
        "**To-Do**:\n",
        "\n",
        "- [ ] Separar el conjunto de datos en entrenamiento y de prueba.\n",
        "- [ ] Entrenar los `pipelines`.\n",
        "- [ ] Utilizar las métricas para evaluar los modelos generados.\n"
      ],
      "metadata": {
        "id": "wE_1aZaIvOeN",
        "cell_id": "5ead21d7e26d4e3da1486c9937f22968",
        "deepnote_cell_height": 454.433349609375,
        "deepnote_cell_type": "markdown"
      }
    },
    {
      "cell_type": "markdown",
      "source": [
        "**Respuesta:**"
      ],
      "metadata": {
        "tags": [],
        "cell_id": "053a95315e3245b39ba9d263d932e7d4",
        "deepnote_cell_height": 51.53334045410156,
        "deepnote_cell_type": "markdown",
        "id": "M4QwgAID5rqU"
      }
    },
    {
      "cell_type": "code",
      "source": [
        "# Holdout\n",
        "from sklearn import preprocessing\n",
        "from sklearn.model_selection import train_test_split\n",
        "\n",
        "#Creamos los Sets de datos con sus etiquetas\n",
        "features = df_players.drop(columns=[\"National_Position\"])\n",
        "labels = df_players.loc[:, \"National_Position\"]\n",
        "\n",
        "#Realizaremos la división solo en 2 grupos, usando 2/3 de train y 1/3 de Test\n",
        "X_train, X_test, y_train, y_test = train_test_split(\n",
        "    features, labels, test_size=0.33, shuffle=True, stratify=labels, random_state=42\n",
        ")\n",
        "#Como parametro se tratara de mantener las proporciones en ambas particiones."
      ],
      "metadata": {
        "tags": [],
        "cell_id": "0148b8e4a7e24b838381dbee30b31758",
        "deepnote_cell_height": 65.13333129882812,
        "deepnote_cell_type": "code",
        "id": "5Lxrydnv5rqV"
      },
      "outputs": [],
      "execution_count": 71
    },
    {
      "cell_type": "code",
      "source": [
        "tree_pipe = tree_pipe.fit(X_train, y_train)\n",
        "y_pred_tree = tree_pipe.predict(X_test)"
      ],
      "metadata": {
        "id": "jfnpbJjum8ui"
      },
      "execution_count": 72,
      "outputs": []
    },
    {
      "cell_type": "code",
      "source": [
        "from sklearn import metrics\n",
        "import matplotlib.pyplot as plt\n",
        "\n",
        "#Plot a confussion matrix\n",
        "def plot_confusion_matrix(labels, pred_labels, classes):\n",
        "    \n",
        "    fig = plt.figure(figsize = (5, 5));\n",
        "    ax = fig.add_subplot(1, 1, 1);\n",
        "    cm = metrics.confusion_matrix(labels, pred_labels , normalize = \"true\");\n",
        "    cm = metrics.ConfusionMatrixDisplay(cm, display_labels=classes);\n",
        "    cm.plot(cmap = 'Blues', ax = ax)\n",
        "\n",
        "classes = [\"No Seleccionados\", \"Seleccionados\"]\n",
        "plot_confusion_matrix(y_test, y_pred_tree, classes)"
      ],
      "metadata": {
        "colab": {
          "base_uri": "https://localhost:8080/",
          "height": 427
        },
        "id": "q689ipila1D2",
        "outputId": "95ba3f7a-835e-474e-b436-9e971eed52b7"
      },
      "execution_count": 73,
      "outputs": [
        {
          "output_type": "display_data",
          "data": {
            "text/plain": [
              "<Figure size 500x500 with 2 Axes>"
            ],
            "image/png": "[encoded data removed]"
          },
          "metadata": {}
        }
      ]
    },
    {
      "cell_type": "code",
      "source": [
        "print(classification_report(y_test, y_pred_tree))"
      ],
      "metadata": {
        "colab": {
          "base_uri": "https://localhost:8080/"
        },
        "id": "wVIWtuADCHV3",
        "outputId": "77538bf7-878d-44d8-cc4c-82d2ad53462e"
      },
      "execution_count": 74,
      "outputs": [
        {
          "output_type": "stream",
          "name": "stdout",
          "text": [
            "              precision    recall  f1-score   support\n",
            "\n",
            "           0       0.96      0.96      0.96      5449\n",
            "           1       0.33      0.34      0.34       355\n",
            "\n",
            "    accuracy                           0.92      5804\n",
            "   macro avg       0.65      0.65      0.65      5804\n",
            "weighted avg       0.92      0.92      0.92      5804\n",
            "\n"
          ]
        }
      ]
    },
    {
      "cell_type": "markdown",
      "source": [
        "###Resultado Árbol de decisión\n",
        "\n",
        "Vemos que el árbol obtiene muy buenos resultados en Accuracy, esto es por que al mirar los resultados de manera global acierta a la mayoría de los casos. Sin embargo dado el desbalance que hay en las clases, esta precisión no necesariamente es indicadora de un buen resultado. Vemos que para el caso de seleccionados nacionales, que es la clase minoritaria las metricas no superan los 0,35 puntos, menos de la mitad de los jugadores seleccionados fueron bien clasificados(mal recall) y de todas las personas que clasifico como seleccionados, 200 de ellas no lo eran (mala precisión). "
      ],
      "metadata": {
        "id": "CwO0Wey-ZvMQ"
      }
    },
    {
      "cell_type": "code",
      "source": [
        "svc_pipe.fit(X_train, y_train)\n",
        "y_pred_svc = svc_pipe.predict(X_test)"
      ],
      "metadata": {
        "id": "rc2ebvUb6I72"
      },
      "execution_count": 75,
      "outputs": []
    },
    {
      "cell_type": "code",
      "source": [
        "plot_confusion_matrix(y_test, y_pred_svc, classes)"
      ],
      "metadata": {
        "colab": {
          "base_uri": "https://localhost:8080/",
          "height": 435
        },
        "id": "-9ml9Iq4eeRo",
        "outputId": "1fee090a-72f3-42a5-87a9-e1c07b8a703f"
      },
      "execution_count": 76,
      "outputs": [
        {
          "output_type": "display_data",
          "data": {
            "text/plain": [
              "<Figure size 500x500 with 2 Axes>"
            ],
            "image/png": "[encoded data removed]"
          },
          "metadata": {}
        }
      ]
    },
    {
      "cell_type": "code",
      "source": [
        "print(classification_report(y_test, y_pred_svc))"
      ],
      "metadata": {
        "colab": {
          "base_uri": "https://localhost:8080/"
        },
        "id": "_JBLMfFefBEB",
        "outputId": "95abeb99-f12a-4198-a6d8-b4fefd6871d0"
      },
      "execution_count": 77,
      "outputs": [
        {
          "output_type": "stream",
          "name": "stdout",
          "text": [
            "              precision    recall  f1-score   support\n",
            "\n",
            "           0       0.94      1.00      0.97      5449\n",
            "           1       0.00      0.00      0.00       355\n",
            "\n",
            "    accuracy                           0.94      5804\n",
            "   macro avg       0.47      0.50      0.48      5804\n",
            "weighted avg       0.88      0.94      0.91      5804\n",
            "\n"
          ]
        },
        {
          "output_type": "stream",
          "name": "stderr",
          "text": [
            "/usr/local/lib/python3.10/dist-packages/sklearn/metrics/_classification.py:1344: UndefinedMetricWarning: Precision and F-score are ill-defined and being set to 0.0 in labels with no predicted samples. Use `zero_division` parameter to control this behavior.\n",
            "  _warn_prf(average, modifier, msg_start, len(result))\n",
            "/usr/local/lib/python3.10/dist-packages/sklearn/metrics/_classification.py:1344: UndefinedMetricWarning: Precision and F-score are ill-defined and being set to 0.0 in labels with no predicted samples. Use `zero_division` parameter to control this behavior.\n",
            "  _warn_prf(average, modifier, msg_start, len(result))\n",
            "/usr/local/lib/python3.10/dist-packages/sklearn/metrics/_classification.py:1344: UndefinedMetricWarning: Precision and F-score are ill-defined and being set to 0.0 in labels with no predicted samples. Use `zero_division` parameter to control this behavior.\n",
            "  _warn_prf(average, modifier, msg_start, len(result))\n"
          ]
        }
      ]
    },
    {
      "cell_type": "markdown",
      "source": [
        "###Resultados SVC"
      ],
      "metadata": {
        "id": "Ifg1J3zrf0cy"
      }
    },
    {
      "cell_type": "markdown",
      "source": [
        "Se repite los resultados de Accuracy, obteniendo un buen 94% pero que como ya sabemos que las clases estan desbalanceadas, estos valores no son representativos de la calidad del resultado.\n",
        "Aqui el modelo tomo la decisión de asignar a todos los casos como no seleccionados, teniendo una precisión y recall de 0.0 para el caso de selecionados nacionales. El peor resultado posible."
      ],
      "metadata": {
        "id": "i98kngYef4k3"
      }
    },
    {
      "cell_type": "code",
      "source": [
        "nb_pipe.fit(X_train, y_train)\n",
        "y_pred_nb = nb_pipe.predict(X_test)\n",
        "\n",
        "plot_confusion_matrix(y_test, y_pred_nb, classes)"
      ],
      "metadata": {
        "colab": {
          "base_uri": "https://localhost:8080/",
          "height": 427
        },
        "id": "4AWJT2uW6Hbn",
        "outputId": "a899c5cd-073e-428c-efeb-5db5fd5c0597"
      },
      "execution_count": 78,
      "outputs": [
        {
          "output_type": "display_data",
          "data": {
            "text/plain": [
              "<Figure size 500x500 with 2 Axes>"
            ],
            "image/png": "[encoded data removed]"
          },
          "metadata": {}
        }
      ]
    },
    {
      "cell_type": "code",
      "source": [
        "print(classification_report(y_test, y_pred_nb))"
      ],
      "metadata": {
        "colab": {
          "base_uri": "https://localhost:8080/"
        },
        "id": "ztIO6XYCfHqy",
        "outputId": "0e2886ae-9803-4d70-e3b8-cd4ca0471e03"
      },
      "execution_count": 79,
      "outputs": [
        {
          "output_type": "stream",
          "name": "stdout",
          "text": [
            "              precision    recall  f1-score   support\n",
            "\n",
            "           0       0.96      0.94      0.95      5449\n",
            "           1       0.31      0.43      0.36       355\n",
            "\n",
            "    accuracy                           0.91      5804\n",
            "   macro avg       0.64      0.68      0.66      5804\n",
            "weighted avg       0.92      0.91      0.91      5804\n",
            "\n"
          ]
        }
      ]
    },
    {
      "cell_type": "markdown",
      "source": [
        "###Resultados Naive Bayes\n",
        "\n",
        "Por ultimo se observa el modelo NB, el cual supera las metricas de los otros 3 modelos, es el que mejor predice la clase Seleccionado, logrando identificar al 43% de los seleccionados. Estos números siguen siendo muy bajos, esto indica que las caracteristicas que estamos usando no permiten reconocer un patron marcado entre las clases. Se podria pensar en hacer una seleccion de caracteristicas, buscando eliminar ruido y dejando solo aquellas que realmente aporten a la clasificación."
      ],
      "metadata": {
        "id": "HbDIddlCRNMS"
      }
    },
    {
      "cell_type": "markdown",
      "source": [
        "## 1.2 Predicción de posiciones de jugadores [2 puntos]\n",
        "\n",
        "<p align=\"center\">\n",
        "  <img src=\"https://pbs.twimg.com/media/E1rfA1aWEAYU6Ny.jpg\" width=\"500\">\n",
        "</p>"
      ],
      "metadata": {
        "id": "ix97Ho4uOARH",
        "cell_id": "5aa0cc14dba04749ad3bc07a92d351d2",
        "deepnote_cell_type": "markdown"
      }
    },
    {
      "cell_type": "markdown",
      "source": [
        "En una nueva jornada de desmesuradas transacciones deportivas, Renacín escuchó a sus colegas discutir acerca de que el precio de cada jugador depende en gran medida de la posición en la cancha en la que juega. Y además, que hay bastantes jugadores nuevos que no tienen muy claro en que posición verdaderamente brillarían, por lo que actualmente puede que actualmente estén jugando en posiciones sub-optimas. \n",
        "\n",
        "Viendo que los resultados del primer análisis no son tan esperanzadores, el corporeo los comanda a cambiar su tarea: ahora, les solicita que construyan un clasificador enfocado en predecir la mejor posición de los jugadores en la cancha según sus características. \n",
        "\n",
        "Para lograr esto, primero, les pide que etiqueten de la siguiente manera los valores que aparecen en el atributo ```Club_Position```, pidiendo que agrupen los valores en los siguientes grupos:\n",
        "\n",
        "**Nota**:  Renacín les recalca que **no deben utilizar los valores ```Sub``` y ```Res``` de esta columna**.\n",
        "\n",
        "```python\n",
        "ataque = ['ST', 'CF'] \n",
        "central_ataque = ['RW', 'CAM', 'LW'] \n",
        "central = ['RM', 'CM', 'LM'] \n",
        "central_defensa = ['RWB', 'CDM', 'LWB']\n",
        "defensa = ['RB', 'CB', 'LB']\n",
        "arquero = ['GK']\n",
        "```\n",
        "\n",
        "Cabe señalar que al igual como lo realizado con la clasificación binaria, deberá justificar en base a la [guía](https://scikit-learn.org/stable/tutorial/machine_learning_map/index.html) la elección del clasificador y se deben comentar los resultados obtenidos en la clasificación.\n",
        "\n",
        "**Nota:** Clasifique solamente con las clases señaladas, si observa mas clases eliminelas de la clasficación.\n",
        "\n",
        "**To-Do**:\n",
        "\n",
        "- [ ] Aplique las etiquetas descritas anteriormente en cada uno de los valores señalados en esta sección.\n",
        "- [ ] Cuente cuantos por clase quedan.\n",
        "- [ ] Entrene el nuevo pipeline y ejecute una evaluación de este.  \n",
        "- [ ] Comente los resultados obtenidos."
      ],
      "metadata": {
        "id": "oHAwZfV8hMsk",
        "cell_id": "6cd2eee12b6147bc8eba66af43a1f1f7",
        "deepnote_cell_type": "markdown"
      }
    },
    {
      "cell_type": "markdown",
      "source": [
        "**Respuesta:**"
      ],
      "metadata": {
        "tags": [],
        "cell_id": "71cd4b2ee5a74b96aa2dd4e1da166655",
        "deepnote_cell_type": "markdown",
        "id": "hEQDbVXQ5rqW"
      }
    },
    {
      "cell_type": "code",
      "source": [
        "ataque = ['ST', 'CF'] \n",
        "central_ataque = ['RW', 'CAM', 'LW'] \n",
        "central = ['RM', 'CM', 'LM'] \n",
        "central_defensa = ['RWB', 'CDM', 'LWB']\n",
        "defensa = ['RB', 'CB', 'LB']\n",
        "arquero = ['GK']"
      ],
      "metadata": {
        "tags": [],
        "cell_id": "e54c0311c11e47cf917f4c7ec61370bc",
        "deepnote_cell_type": "code",
        "id": "Pu0EyFuA5rqW"
      },
      "outputs": [],
      "execution_count": 21
    },
    {
      "cell_type": "code",
      "source": [
        "def posicion(x):\n",
        "    if x in ataque:\n",
        "        return 'ataque'\n",
        "    if x in central_ataque:\n",
        "        return 'central_ataque'\n",
        "    if x in central:\n",
        "        return 'central'\n",
        "    if x in central_defensa:\n",
        "        return 'central_defensa'\n",
        "    if x in defensa:\n",
        "        return 'defensa'\n",
        "    if x in arquero:\n",
        "        return 'arquero'\n",
        "    else:\n",
        "        return 'otro'   "
      ],
      "metadata": {
        "id": "E_F2VB4vHbRJ"
      },
      "execution_count": 22,
      "outputs": []
    },
    {
      "cell_type": "code",
      "source": [
        "df_players['Club_Position'] = df_players['Club_Position'].apply(posicion)"
      ],
      "metadata": {
        "id": "PwOyEV-YHfBw"
      },
      "execution_count": 23,
      "outputs": []
    },
    {
      "cell_type": "code",
      "source": [
        "df_players = df_players.drop(df_players[df_players['Club_Position'] == 'otro'].index)"
      ],
      "metadata": {
        "id": "TzireiOjHiP3"
      },
      "execution_count": 24,
      "outputs": []
    },
    {
      "cell_type": "code",
      "source": [
        "df_players['Club_Position'].value_counts()"
      ],
      "metadata": {
        "colab": {
          "base_uri": "https://localhost:8080/"
        },
        "id": "5EhaowQNH8Y4",
        "outputId": "870af638-ed03-446e-ff06-d8abea8d4ee2"
      },
      "execution_count": 25,
      "outputs": [
        {
          "output_type": "execute_result",
          "data": {
            "text/plain": [
              "defensa            1180\n",
              "central             907\n",
              "arquero             632\n",
              "central_ataque      581\n",
              "ataque              430\n",
              "central_defensa     209\n",
              "Name: Club_Position, dtype: int64"
            ]
          },
          "metadata": {},
          "execution_count": 25
        }
      ]
    },
    {
      "cell_type": "code",
      "source": [
        "# Holdout\n",
        "\n",
        "#Creamos los Sets de datos con sus etiquetas\n",
        "features = df_players.drop(columns=[\"Club_Position\"])\n",
        "labels = df_players.loc[:, \"Club_Position\"]\n",
        "\n",
        "#Realizaremos la división solo en 2 grupos, usando 2/3 de train y 1/3 de Test\n",
        "X_train, X_test, y_train, y_test = train_test_split(\n",
        "    features, labels, test_size=0.33, shuffle=True, stratify=labels, random_state=42\n",
        ")\n",
        "#Como parametro se tratara de mantener las proporciones en ambas particiones."
      ],
      "metadata": {
        "id": "HbFx_jhaIePV"
      },
      "execution_count": 26,
      "outputs": []
    },
    {
      "cell_type": "code",
      "source": [
        "#Atributos categoricos sin ordinalidad \n",
        "onehot =  ['Nationality', \n",
        "           'Preffered_Foot',\n",
        "           'Weak_foot',\n",
        "           'Skill_Moves'\n",
        "          ]\n",
        "#atributos categoricos que si poseen un orden\n",
        "catord =  ['Work_Rate'\n",
        "          ]\n",
        "#orden de los atributos categoricos ordinales\n",
        "ordinal_cat = [['Low / Low',\n",
        "               'Low / Medium',\n",
        "               'Low / High',\n",
        "               'Medium / Low',\n",
        "               'Medium / Medium',\n",
        "               'Medium / High',\n",
        "               'High / Low',\n",
        "               'High / Medium',\n",
        "               'High / High'\n",
        "          ]]\n",
        "\n",
        "#Para aquellos atributos que siguen distribuciones bimodales\n",
        "lognornal = ['Ball_Control',\n",
        "             'Dribbling',\n",
        "             'Marking',\n",
        "             'Sliding_Tackle',\n",
        "             'Standing_Tackle',\n",
        "             'Interceptions',\n",
        "             'Crossing',\n",
        "             'Short_Pass',\n",
        "             'Long_Pass',\n",
        "             'Stamina',\n",
        "             'Penalties'\n",
        "             ]\n",
        "\n",
        "\n",
        "#Todos los atributos que siguen una distribción estandar o similar\n",
        "standard = ['Height',\n",
        "            'Weight',\n",
        "            'Age',\n",
        "            'Aggression',\n",
        "            'Reactions',\n",
        "            'Vision',\n",
        "            'Composure',\n",
        "            'Acceleration',\n",
        "            'Speed',\n",
        "            'Strength',\n",
        "            'Balance',\n",
        "            'Agility',\n",
        "            'Jumping',\n",
        "            'Curve',\n",
        "            'Volleys',\n",
        "            'Heading',\n",
        "            'Shot_Power'\n",
        "            ] \n",
        "\n",
        "#atributos cuya distribución no sigue una curva estandar y solo queremos distribuir los datos entre 0 y 1\n",
        "minmax = ['Finishing',\n",
        "          'Long_Shots',\n",
        "          'Freekick_Accuracy'\n",
        "           ]\n",
        "#Para aquellos datos que siguen una distribución normal pero poseen valores atipicos o outlayers\n",
        "robusta = [] #No se encontraron atributos con outlyers tan marcados\n",
        "\n",
        "#atributos que no se transformaran\n",
        "passthrough = [ 'National_Position',\n",
        "                #'Club_Position'\n",
        "                #,'Name'     Esta variable no se usará\n",
        "                ]"
      ],
      "metadata": {
        "id": "ktqsuDHxLsPq"
      },
      "execution_count": 27,
      "outputs": []
    },
    {
      "cell_type": "code",
      "source": [
        "transformer = ColumnTransformer(\n",
        "    transformers=[\n",
        "        ('passthrough','passthrough', passthrough),\n",
        "        ('onehotencoder', OneHotEncoder(sparse_output=False, handle_unknown='ignore'), onehot),  # \n",
        "        ('ordinales', OrdinalEncoder(categories = ordinal_cat), catord),  #\n",
        "        ('lognormal', log_transform, lognornal ),  #  \n",
        "        ('standard', StandardScaler(), standard),  # \n",
        "        ('minmax', MinMaxScaler(), minmax),   # \n",
        "    ])\n",
        "\n"
      ],
      "metadata": {
        "id": "HEuQlV1OOk5a"
      },
      "execution_count": 29,
      "outputs": []
    },
    {
      "cell_type": "code",
      "source": [
        "#Pipeline del Arbol de decisión\n",
        "tree_pipe = Pipeline([\n",
        "     (\"preprocesamiento\", transformer),\n",
        "     (\"tree\", DecisionTreeClassifier(criterion=\"entropy\"))\n",
        "    ])\n",
        "\n",
        "#Pipeline para NaiveBayes\n",
        "nb_pipe = Pipeline([\n",
        "        (\"preprocesamiento\", transformer), \n",
        "        (\"nb\", BernoulliNB())\n",
        "    ])\n",
        "\n",
        "#Pipeline para Support Vector Classification\n",
        "svc_pipe = Pipeline([\n",
        "    (\"preprocesamiento\", transformer), \n",
        "    (\"svc\", SVC())\n",
        "    ])"
      ],
      "metadata": {
        "id": "mvYDGtJKux9b"
      },
      "execution_count": 30,
      "outputs": []
    },
    {
      "cell_type": "code",
      "source": [
        "pip = Pipeline([('Preprocesing', transformer)])\n",
        "df_procesado = pd.DataFrame(pip.fit_transform(X_train))"
      ],
      "metadata": {
        "id": "fV1ixNgtOtqF"
      },
      "execution_count": 31,
      "outputs": []
    },
    {
      "cell_type": "code",
      "source": [
        "classes = [\"arquero\",\"ataque\",\"central\", \"central_ataque\",\"central_defensa\",\"defensa\"]"
      ],
      "metadata": {
        "id": "6nqVQLEdpEm8"
      },
      "execution_count": 35,
      "outputs": []
    },
    {
      "cell_type": "markdown",
      "source": [
        "Repetimos el proceso igual que para el caso de clasificación binaria, esta vez con las 6 clases correspondientes a las diferentes posiciones."
      ],
      "metadata": {
        "id": "Sv2WkADYO7b7"
      }
    },
    {
      "cell_type": "code",
      "source": [
        "y_test.value_counts()"
      ],
      "metadata": {
        "colab": {
          "base_uri": "https://localhost:8080/"
        },
        "id": "x5l72SJPNfCO",
        "outputId": "397e5dc4-a179-4d2c-e1df-994f5927a6bd"
      },
      "execution_count": 28,
      "outputs": [
        {
          "output_type": "execute_result",
          "data": {
            "text/plain": [
              "defensa            389\n",
              "central            299\n",
              "arquero            209\n",
              "central_ataque     192\n",
              "ataque             142\n",
              "central_defensa     69\n",
              "Name: Club_Position, dtype: int64"
            ]
          },
          "metadata": {},
          "execution_count": 28
        }
      ]
    },
    {
      "cell_type": "code",
      "source": [
        "tree_pipe = tree_pipe.fit(X_train, y_train)\n",
        "y_pred_tree = tree_pipe.predict(X_test)\n",
        "plot_confusion_matrix(y_test, y_pred_tree, classes)\n",
        "print(classification_report(y_test, y_pred_tree))"
      ],
      "metadata": {
        "colab": {
          "base_uri": "https://localhost:8080/",
          "height": 670
        },
        "id": "f37S5WRwOsmo",
        "outputId": "52a2b783-a411-4b80-e579-a4e531c49294"
      },
      "execution_count": 36,
      "outputs": [
        {
          "output_type": "stream",
          "name": "stdout",
          "text": [
            "                 precision    recall  f1-score   support\n",
            "\n",
            "        arquero       1.00      1.00      1.00       209\n",
            "         ataque       0.70      0.71      0.71       142\n",
            "        central       0.48      0.47      0.48       299\n",
            " central_ataque       0.36      0.38      0.37       192\n",
            "central_defensa       0.19      0.20      0.19        69\n",
            "        defensa       0.79      0.76      0.78       389\n",
            "\n",
            "       accuracy                           0.64      1300\n",
            "      macro avg       0.59      0.59      0.59      1300\n",
            "   weighted avg       0.65      0.64      0.64      1300\n",
            "\n"
          ]
        },
        {
          "output_type": "display_data",
          "data": {
            "text/plain": [
              "<Figure size 500x500 with 2 Axes>"
            ],
            "image/png": "[encoded data removed]"
          },
          "metadata": {}
        }
      ]
    },
    {
      "cell_type": "markdown",
      "source": [
        "### Análisis Árbol multiclase\n",
        "Los resultados del arbol son muy buenos para algunas posiciones y malos para otras. En este caso los arqueros los precide casi a la perfección sin cometer errores, luego su mejor desempeño es en la posición ataque y defensa, con muy buenos resultados. Su peor desempeño esta en las 3 posiciones centrales, las cuales confunde con mayor regularidad, siendo el central defensa el que posee menor desempeño, pues los etiqueta como defensa."
      ],
      "metadata": {
        "id": "jRhuH5pkPKyL"
      }
    },
    {
      "cell_type": "code",
      "source": [
        "svc_pipe.fit(X_train, y_train)\n",
        "y_pred_svc = svc_pipe.predict(X_test)\n",
        "plot_confusion_matrix(y_test, y_pred_svc, classes)\n",
        "print(classification_report(y_test, y_pred_svc))"
      ],
      "metadata": {
        "colab": {
          "base_uri": "https://localhost:8080/",
          "height": 806
        },
        "id": "395-817qonRB",
        "outputId": "b65fe9d0-ce23-45d4-bdeb-3bbd7a7ab2db"
      },
      "execution_count": 37,
      "outputs": [
        {
          "output_type": "stream",
          "name": "stderr",
          "text": [
            "/usr/local/lib/python3.10/dist-packages/sklearn/metrics/_classification.py:1344: UndefinedMetricWarning: Precision and F-score are ill-defined and being set to 0.0 in labels with no predicted samples. Use `zero_division` parameter to control this behavior.\n",
            "  _warn_prf(average, modifier, msg_start, len(result))\n",
            "/usr/local/lib/python3.10/dist-packages/sklearn/metrics/_classification.py:1344: UndefinedMetricWarning: Precision and F-score are ill-defined and being set to 0.0 in labels with no predicted samples. Use `zero_division` parameter to control this behavior.\n",
            "  _warn_prf(average, modifier, msg_start, len(result))\n",
            "/usr/local/lib/python3.10/dist-packages/sklearn/metrics/_classification.py:1344: UndefinedMetricWarning: Precision and F-score are ill-defined and being set to 0.0 in labels with no predicted samples. Use `zero_division` parameter to control this behavior.\n",
            "  _warn_prf(average, modifier, msg_start, len(result))\n"
          ]
        },
        {
          "output_type": "stream",
          "name": "stdout",
          "text": [
            "                 precision    recall  f1-score   support\n",
            "\n",
            "        arquero       1.00      1.00      1.00       209\n",
            "         ataque       0.76      0.81      0.78       142\n",
            "        central       0.53      0.74      0.61       299\n",
            " central_ataque       0.80      0.02      0.04       192\n",
            "central_defensa       0.00      0.00      0.00        69\n",
            "        defensa       0.74      0.98      0.84       389\n",
            "\n",
            "       accuracy                           0.71      1300\n",
            "      macro avg       0.64      0.59      0.55      1300\n",
            "   weighted avg       0.70      0.71      0.65      1300\n",
            "\n"
          ]
        },
        {
          "output_type": "display_data",
          "data": {
            "text/plain": [
              "<Figure size 500x500 with 2 Axes>"
            ],
            "image/png": "[encoded data removed]"
          },
          "metadata": {}
        }
      ]
    },
    {
      "cell_type": "markdown",
      "source": [
        "###Análisis SVC Multiclase\n",
        "\n",
        "Vemos que para el caso multiclase los resultados son mucho mejores, tiene una precisión perfecta para el caso de los arqueros tambien pero metricas mucho mejores para defensa y ataque. Por ultimo las clases centrales siguen siendo las más dificiles de predecir,mejoro bastante la predicción del central pero ahorase omitio por completo la clase central defensa, la cual no clasifico en ningun caso correctamente."
      ],
      "metadata": {
        "id": "fDdVWcakP5G9"
      }
    },
    {
      "cell_type": "code",
      "source": [
        "nb_pipe.fit(X_train, y_train)\n",
        "y_pred_nb = nb_pipe.predict(X_test)\n",
        "\n",
        "plot_confusion_matrix(y_test, y_pred_nb, classes)\n",
        "print(classification_report(y_test, y_pred_nb))"
      ],
      "metadata": {
        "colab": {
          "base_uri": "https://localhost:8080/",
          "height": 675
        },
        "id": "XxXhZUtwoW8D",
        "outputId": "eb7007ee-468f-49b8-a554-1279a14ceb4b"
      },
      "execution_count": 38,
      "outputs": [
        {
          "output_type": "stream",
          "name": "stdout",
          "text": [
            "                 precision    recall  f1-score   support\n",
            "\n",
            "        arquero       1.00      1.00      1.00       209\n",
            "         ataque       0.43      0.54      0.48       142\n",
            "        central       0.44      0.42      0.43       299\n",
            " central_ataque       0.42      0.41      0.41       192\n",
            "central_defensa       0.20      0.12      0.15        69\n",
            "        defensa       0.70      0.72      0.71       389\n",
            "\n",
            "       accuracy                           0.60      1300\n",
            "      macro avg       0.53      0.53      0.53      1300\n",
            "   weighted avg       0.59      0.60      0.59      1300\n",
            "\n"
          ]
        },
        {
          "output_type": "display_data",
          "data": {
            "text/plain": [
              "<Figure size 500x500 with 2 Axes>"
            ],
            "image/png": "[encoded data removed]"
          },
          "metadata": {}
        }
      ]
    },
    {
      "cell_type": "markdown",
      "source": [
        "###Análisis NB multiclase\n",
        "\n",
        "Por ultimo para cerrar vemos los resultados del caso multiclase para NB, aquí como ya es habitual se predijo de manera perfecta a los arqueros, para el resto de posiciones obtuvo peores resultados que el árbol, y se repite que la posición central defensa es en la que se cometen más errores al ser muy parecida al defensa."
      ],
      "metadata": {
        "id": "r2KgP6jFQn6K"
      }
    },
    {
      "cell_type": "markdown",
      "source": [
        "Al igual que para el caso binario, hacer PCA podria ayudar a reducir el ruido, y buscar mejores caracteristicas para entregarle al dataset."
      ],
      "metadata": {
        "id": "3A3Fnu5USTHn"
      }
    },
    {
      "cell_type": "markdown",
      "source": [
        "## 1.3 Predicción de Sueldos [2 puntos]\n",
        "\n",
        "<p align=\"center\">\n",
        "  <img src=\"https://media.giphy.com/media/3oEjHWtHAFcOKS4iA0/giphy.gif\" width=\"460\">\n",
        "</p>"
      ],
      "metadata": {
        "id": "C-vkB4xoOGtM",
        "cell_id": "f8008fda06be4d8ab7564d7362151a14",
        "deepnote_cell_type": "markdown"
      }
    },
    {
      "cell_type": "markdown",
      "source": [
        "Queriendo ahondar aún más en el mercado del balompíe, Renacin, logra obtener (de una manera no muy formal) los sueldos de múltiples futbolistas y los guarda en el archivo ```sueldos.csv```. Con ellos les solicita que generen un regresor que les permita predecir el sueldo de los futbolistas en base a las características de los pichichis, esto, debido a su motivación por invertir y/o realizar especulación sobre los sueldos de jugadores.\n",
        "\n",
        "Renacin es claro señalando que deben seguir utilizando la [guía](https://scikit-learn.org/stable/tutorial/machine_learning_map/index.html) y comenten cada uno de los pasos realizados, para obtener su regresión lineal. Señalándoles que no aceptara un $R^2$ inferior a 0.35 para el modelo solicitado.\n",
        "\n",
        "Para esta parte usted tiene total libertad en la generación del regresor, la unica exigencia es que utilice un pipeline para generar la regresión y utilice la metrica $R^2$ para medir el rendimiento de esta.\n",
        "\n",
        "**To-Do**:\n",
        "\n",
        "- [ ] Explique en que consiste la métrica $R^2$\n",
        "- [ ] Generar un pipeline para la regresión.\n",
        "- [ ] Obtener un regresor con un $R^2$ superior a  $0.35$.\n",
        "- [ ] Comente sus resultados y si es posible mejorar los resultados obtenidos. ¿Se necesitarían más datos o otros tipos de características o una combinación de ambos?"
      ],
      "metadata": {
        "tags": [],
        "cell_id": "598c8a91d80c412091470f396af54b5f",
        "deepnote_cell_type": "markdown",
        "id": "F3qcPlkY5rqX"
      }
    },
    {
      "cell_type": "markdown",
      "source": [
        "**Respuesta**"
      ],
      "metadata": {
        "tags": [],
        "cell_id": "5ce70aab37cb4924b1543eeab84e7de4",
        "deepnote_cell_type": "markdown",
        "id": "Ru21SXVC5rqX"
      }
    },
    {
      "cell_type": "code",
      "source": [
        "df_sueldos = pd.read_csv(\"/content/salarios.csv\")\n",
        "df_players = pd.read_csv(\"/content/stats_players.csv\")"
      ],
      "metadata": {
        "tags": [],
        "cell_id": "96e8db5c5a7044b79966da981618c807",
        "deepnote_cell_type": "code",
        "id": "awgUId555rqX"
      },
      "outputs": [],
      "execution_count": 40
    },
    {
      "cell_type": "code",
      "source": [
        "df_players['Club_Position'] = df_players['Club_Position'].apply(posicion)"
      ],
      "metadata": {
        "id": "9SxdrmyEx8Ci"
      },
      "execution_count": 41,
      "outputs": []
    },
    {
      "cell_type": "code",
      "source": [
        "df_players['National_Position'] = df_players['National_Position'].apply(lambda x: 0 if pd.isnull(x) else 1)"
      ],
      "metadata": {
        "id": "yptKigDZzsoI"
      },
      "execution_count": 42,
      "outputs": []
    },
    {
      "cell_type": "code",
      "source": [
        "df_players = df_players.astype(\n",
        "    {\n",
        "        'Nationality': 'category',\n",
        "        'National_Position': 'category',\n",
        "        'Club_Position': 'category',\n",
        "        'Preffered_Foot': 'category',\n",
        "        'Work_Rate': 'category'\n",
        "    }\n",
        ")"
      ],
      "metadata": {
        "id": "z585bXTCzCWh"
      },
      "execution_count": 43,
      "outputs": []
    },
    {
      "cell_type": "code",
      "source": [
        "df_regresion = pd.merge(df_players, df_sueldos, left_on='Name', right_on='Player', how='inner')"
      ],
      "metadata": {
        "id": "BB46PVm-D3E9"
      },
      "execution_count": 44,
      "outputs": []
    },
    {
      "cell_type": "code",
      "source": [
        "df_regresion = df_regresion.drop(columns=['Player', 'Unnamed: 0'])"
      ],
      "metadata": {
        "id": "HzkSgZcID4MC"
      },
      "execution_count": 45,
      "outputs": []
    },
    {
      "cell_type": "code",
      "source": [
        "minmax = [\n",
        "    'Ball_Control',\n",
        "    'Dribbling',\n",
        "    'Marking',\n",
        "    'Sliding_Tackle',\n",
        "    'Standing_Tackle',\n",
        "    'Interceptions',\n",
        "    'Crossing',\n",
        "    'Short_Pass',\n",
        "    'Long_Pass',\n",
        "    'Stamina',\n",
        "    'Heading',\n",
        "    'Shot_Power',\n",
        "    'Finishing',\n",
        "    'Long_Shots',\n",
        "    'Curve',\n",
        "    'Freekick_Accuracy',\n",
        "    'Penalties'\n",
        "]\n",
        "\n",
        "onehot = [\n",
        "    'Nationality',\n",
        "    'Club_Position',\n",
        "    'Preffered_Foot',\n",
        "    'Skill_Moves'\n",
        "]\n",
        "\n",
        "categorical = [\n",
        "    'Weak_foot',\n",
        "    'Work_Rate'\n",
        "]\n",
        "\n",
        "log = [\n",
        "   'Age' \n",
        "]\n",
        "\n",
        "passthrough = [\n",
        "    'National_Position'\n",
        "]\n",
        "\n",
        "noseusa = [\n",
        "    'Name',\n",
        "    'Weekly Salary'\n",
        "]\n",
        "\n",
        "standard = list(set(df_regresion.columns) - set(log) - set(categorical) - set(minmax) - set(onehot) - set(passthrough) - set(noseusa))"
      ],
      "metadata": {
        "id": "JFyIh_EgEGCC"
      },
      "execution_count": 46,
      "outputs": []
    },
    {
      "cell_type": "code",
      "source": [
        "def log_transform(x):\n",
        "    return np.log(x + 1)"
      ],
      "metadata": {
        "id": "AqRjAA4HEIf4"
      },
      "execution_count": 47,
      "outputs": []
    },
    {
      "cell_type": "code",
      "source": [
        "transformer = ColumnTransformer([\n",
        "    ('passthrough', 'passthrough', passthrough),\n",
        "    ('Scaled', StandardScaler(), standard),\n",
        "    ('minmax', MinMaxScaler(), minmax),\n",
        "    ('onehot', OneHotEncoder(sparse = False, drop='first'), onehot),\n",
        "    ('categorical', OrdinalEncoder(), categorical),\n",
        "    ('log', FunctionTransformer(func = log_transform), log)\n",
        "]).set_output(transform='pandas')"
      ],
      "metadata": {
        "id": "bcioqR-gEKI3",
        "colab": {
          "base_uri": "https://localhost:8080/"
        },
        "outputId": "5428b312-b33f-45f5-bfcf-82f8de3754f7"
      },
      "execution_count": 48,
      "outputs": [
        {
          "output_type": "stream",
          "name": "stderr",
          "text": [
            "/usr/local/lib/python3.10/dist-packages/sklearn/preprocessing/_function_transformer.py:343: UserWarning: With transform=\"pandas\", `func` should return a DataFrame to follow the set_output API.\n",
            "  warnings.warn(\n"
          ]
        }
      ]
    },
    {
      "cell_type": "code",
      "source": [
        "from sklearn.svm import SVR\n",
        "from sklearn.linear_model import Lasso"
      ],
      "metadata": {
        "id": "ymTO2mMBELTU"
      },
      "execution_count": 49,
      "outputs": []
    },
    {
      "cell_type": "code",
      "source": [
        "pipe = Pipeline([('preprocesamiento', transformer),\n",
        "                 ('regresor', Lasso())])\n",
        "#Se escogió Lasso() puesto que debido al encoder sobre la nacionalidad, existen\n",
        "#muchas columnas quenquedan con 0 y segun el mapa de sklearn este tipo de regresores seria el ideal"
      ],
      "metadata": {
        "id": "zcolYMQfEMuc"
      },
      "execution_count": 50,
      "outputs": []
    },
    {
      "cell_type": "code",
      "source": [
        "features = df_regresion.drop(columns=['Name', 'Weekly Salary'])\n",
        "labels = df_regresion.loc[:, 'Weekly Salary']\n",
        "\n",
        "\n",
        "X_train, X_test, y_train, y_test  = train_test_split(\n",
        "    features, labels, shuffle=True, train_size=0.7, random_state= 0\n",
        ")"
      ],
      "metadata": {
        "id": "-NroubO5EPJv"
      },
      "execution_count": 51,
      "outputs": []
    },
    {
      "cell_type": "code",
      "source": [
        "#Se realizó este while para que exista un conjunto de entrenamiento \n",
        "#que contenga todas las nacionalidades y así aplicar OneHot Encoder de buena forma\n",
        "#se hace medianta la busqueda de un random state que haga que el conjunto de entrenamiento\n",
        "#contenga todas las nacionalidades del dataset\n",
        "random_state_89 = 0\n",
        "\n",
        "while len(X_train['Nationality'].unique()) != len(df_regresion['Nationality'].unique()):\n",
        "\n",
        "    X_train, X_test, y_train, y_test  = train_test_split(\n",
        "        df_regresion.drop(columns=['Name', 'Weekly Salary']), df_regresion['Weekly Salary'], shuffle=True, train_size=0.7, random_state= random_state_89\n",
        "    )\n",
        "    random_state_89 += 1\n",
        "random_state_89 -= 1   "
      ],
      "metadata": {
        "id": "PguiEvvQERcQ"
      },
      "execution_count": 52,
      "outputs": []
    },
    {
      "cell_type": "code",
      "source": [
        "random_state_89"
      ],
      "metadata": {
        "id": "cKa30cOHESua",
        "colab": {
          "base_uri": "https://localhost:8080/"
        },
        "outputId": "3a47c2d7-92bd-4fec-b90e-72c85829f66f"
      },
      "execution_count": 53,
      "outputs": [
        {
          "output_type": "execute_result",
          "data": {
            "text/plain": [
              "2801"
            ]
          },
          "metadata": {},
          "execution_count": 53
        }
      ]
    },
    {
      "cell_type": "code",
      "source": [
        "X_train, X_test, y_train, y_test  = train_test_split(\n",
        "    df_regresion.drop(columns=['Name', 'Weekly Salary']), df_regresion['Weekly Salary'], shuffle=True, train_size=0.7, random_state= random_state_89\n",
        ")"
      ],
      "metadata": {
        "id": "xfGsYJWZEUEj"
      },
      "execution_count": 54,
      "outputs": []
    },
    {
      "cell_type": "code",
      "source": [
        "pipe.fit(X_train, y_train)"
      ],
      "metadata": {
        "id": "BuduYVw_EVEJ",
        "colab": {
          "base_uri": "https://localhost:8080/",
          "height": 250
        },
        "outputId": "d53056ac-099f-49ee-fa4d-2f5378b24220"
      },
      "execution_count": 55,
      "outputs": [
        {
          "output_type": "stream",
          "name": "stderr",
          "text": [
            "/usr/local/lib/python3.10/dist-packages/sklearn/preprocessing/_encoders.py:868: FutureWarning: `sparse` was renamed to `sparse_output` in version 1.2 and will be removed in 1.4. `sparse_output` is ignored unless you leave `sparse` to its default value.\n",
            "  warnings.warn(\n"
          ]
        },
        {
          "output_type": "execute_result",
          "data": {
            "text/plain": [
              "Pipeline(steps=[('preprocesamiento',\n",
              "                 ColumnTransformer(transformers=[('passthrough', 'passthrough',\n",
              "                                                  ['National_Position']),\n",
              "                                                 ('Scaled', StandardScaler(),\n",
              "                                                  ['Reactions', 'Weight',\n",
              "                                                   'Composure', 'Balance',\n",
              "                                                   'Aggression', 'Strength',\n",
              "                                                   'Jumping', 'Agility',\n",
              "                                                   'Volleys', 'Height',\n",
              "                                                   'Vision', 'Acceleration',\n",
              "                                                   'Speed']),\n",
              "                                                 ('minmax', MinMaxScaler(),\n",
              "                                                  ['Ball_Control', 'Dribbling',\n",
              "                                                   'Marking'...\n",
              "                                                   'Shot_Power', 'Finishing',\n",
              "                                                   'Long_Shots', 'Curve',\n",
              "                                                   'Freekick_Accuracy',\n",
              "                                                   'Penalties']),\n",
              "                                                 ('onehot',\n",
              "                                                  OneHotEncoder(drop='first',\n",
              "                                                                sparse=False),\n",
              "                                                  ['Nationality',\n",
              "                                                   'Club_Position',\n",
              "                                                   'Preffered_Foot',\n",
              "                                                   'Skill_Moves']),\n",
              "                                                 ('categorical',\n",
              "                                                  OrdinalEncoder(),\n",
              "                                                  ['Weak_foot', 'Work_Rate']),\n",
              "                                                 ('log',\n",
              "                                                  FunctionTransformer(func=<function log_transform at 0x7fcb4c9e7be0>),\n",
              "                                                  ['Age'])])),\n",
              "                ('regresor', Lasso())])"
            ],
            "text/html": [
              "<style>#sk-container-id-1 {color: black;background-color: white;}#sk-container-id-1 pre{padding: 0;}#sk-container-id-1 div.sk-toggleable {background-color: white;}#sk-container-id-1 label.sk-toggleable__label {cursor: pointer;display: block;width: 100%;margin-bottom: 0;padding: 0.3em;box-sizing: border-box;text-align: center;}#sk-container-id-1 label.sk-toggleable__label-arrow:before {content: \"▸\";float: left;margin-right: 0.25em;color: #696969;}#sk-container-id-1 label.sk-toggleable__label-arrow:hover:before {color: black;}#sk-container-id-1 div.sk-estimator:hover label.sk-toggleable__label-arrow:before {color: black;}#sk-container-id-1 div.sk-toggleable__content {max-height: 0;max-width: 0;overflow: hidden;text-align: left;background-color: #f0f8ff;}#sk-container-id-1 div.sk-toggleable__content pre {margin: 0.2em;color: black;border-radius: 0.25em;background-color: #f0f8ff;}#sk-container-id-1 input.sk-toggleable__control:checked~div.sk-toggleable__content {max-height: 200px;max-width: 100%;overflow: auto;}#sk-container-id-1 input.sk-toggleable__control:checked~label.sk-toggleable__label-arrow:before {content: \"▾\";}#sk-container-id-1 div.sk-estimator input.sk-toggleable__control:checked~label.sk-toggleable__label {background-color: #d4ebff;}#sk-container-id-1 div.sk-label input.sk-toggleable__control:checked~label.sk-toggleable__label {background-color: #d4ebff;}#sk-container-id-1 input.sk-hidden--visually {border: 0;clip: rect(1px 1px 1px 1px);clip: rect(1px, 1px, 1px, 1px);height: 1px;margin: -1px;overflow: hidden;padding: 0;position: absolute;width: 1px;}#sk-container-id-1 div.sk-estimator {font-family: monospace;background-color: #f0f8ff;border: 1px dotted black;border-radius: 0.25em;box-sizing: border-box;margin-bottom: 0.5em;}#sk-container-id-1 div.sk-estimator:hover {background-color: #d4ebff;}#sk-container-id-1 div.sk-parallel-item::after {content: \"\";width: 100%;border-bottom: 1px solid gray;flex-grow: 1;}#sk-container-id-1 div.sk-label:hover label.sk-toggleable__label {background-color: #d4ebff;}#sk-container-id-1 div.sk-serial::before {content: \"\";position: absolute;border-left: 1px solid gray;box-sizing: border-box;top: 0;bottom: 0;left: 50%;z-index: 0;}#sk-container-id-1 div.sk-serial {display: flex;flex-direction: column;align-items: center;background-color: white;padding-right: 0.2em;padding-left: 0.2em;position: relative;}#sk-container-id-1 div.sk-item {position: relative;z-index: 1;}#sk-container-id-1 div.sk-parallel {display: flex;align-items: stretch;justify-content: center;background-color: white;position: relative;}#sk-container-id-1 div.sk-item::before, #sk-container-id-1 div.sk-parallel-item::before {content: \"\";position: absolute;border-left: 1px solid gray;box-sizing: border-box;top: 0;bottom: 0;left: 50%;z-index: -1;}#sk-container-id-1 div.sk-parallel-item {display: flex;flex-direction: column;z-index: 1;position: relative;background-color: white;}#sk-container-id-1 div.sk-parallel-item:first-child::after {align-self: flex-end;width: 50%;}#sk-container-id-1 div.sk-parallel-item:last-child::after {align-self: flex-start;width: 50%;}#sk-container-id-1 div.sk-parallel-item:only-child::after {width: 0;}#sk-container-id-1 div.sk-dashed-wrapped {border: 1px dashed gray;margin: 0 0.4em 0.5em 0.4em;box-sizing: border-box;padding-bottom: 0.4em;background-color: white;}#sk-container-id-1 div.sk-label label {font-family: monospace;font-weight: bold;display: inline-block;line-height: 1.2em;}#sk-container-id-1 div.sk-label-container {text-align: center;}#sk-container-id-1 div.sk-container {/* jupyter's `normalize.less` sets `[hidden] { display: none; }` but bootstrap.min.css set `[hidden] { display: none !important; }` so we also need the `!important` here to be able to override the default hidden behavior on the sphinx rendered scikit-learn.org. See: https://github.com/scikit-learn/scikit-learn/issues/21755 */display: inline-block !important;position: relative;}#sk-container-id-1 div.sk-text-repr-fallback {display: none;}</style><div id=\"sk-container-id-1\" class=\"sk-top-container\"><div class=\"sk-text-repr-fallback\"><pre>Pipeline(steps=[(&#x27;preprocesamiento&#x27;,\n",
              "                 ColumnTransformer(transformers=[(&#x27;passthrough&#x27;, &#x27;passthrough&#x27;,\n",
              "                                                  [&#x27;National_Position&#x27;]),\n",
              "                                                 (&#x27;Scaled&#x27;, StandardScaler(),\n",
              "                                                  [&#x27;Reactions&#x27;, &#x27;Weight&#x27;,\n",
              "                                                   &#x27;Composure&#x27;, &#x27;Balance&#x27;,\n",
              "                                                   &#x27;Aggression&#x27;, &#x27;Strength&#x27;,\n",
              "                                                   &#x27;Jumping&#x27;, &#x27;Agility&#x27;,\n",
              "                                                   &#x27;Volleys&#x27;, &#x27;Height&#x27;,\n",
              "                                                   &#x27;Vision&#x27;, &#x27;Acceleration&#x27;,\n",
              "                                                   &#x27;Speed&#x27;]),\n",
              "                                                 (&#x27;minmax&#x27;, MinMaxScaler(),\n",
              "                                                  [&#x27;Ball_Control&#x27;, &#x27;Dribbling&#x27;,\n",
              "                                                   &#x27;Marking&#x27;...\n",
              "                                                   &#x27;Shot_Power&#x27;, &#x27;Finishing&#x27;,\n",
              "                                                   &#x27;Long_Shots&#x27;, &#x27;Curve&#x27;,\n",
              "                                                   &#x27;Freekick_Accuracy&#x27;,\n",
              "                                                   &#x27;Penalties&#x27;]),\n",
              "                                                 (&#x27;onehot&#x27;,\n",
              "                                                  OneHotEncoder(drop=&#x27;first&#x27;,\n",
              "                                                                sparse=False),\n",
              "                                                  [&#x27;Nationality&#x27;,\n",
              "                                                   &#x27;Club_Position&#x27;,\n",
              "                                                   &#x27;Preffered_Foot&#x27;,\n",
              "                                                   &#x27;Skill_Moves&#x27;]),\n",
              "                                                 (&#x27;categorical&#x27;,\n",
              "                                                  OrdinalEncoder(),\n",
              "                                                  [&#x27;Weak_foot&#x27;, &#x27;Work_Rate&#x27;]),\n",
              "                                                 (&#x27;log&#x27;,\n",
              "                                                  FunctionTransformer(func=&lt;function log_transform at 0x7fcb4c9e7be0&gt;),\n",
              "                                                  [&#x27;Age&#x27;])])),\n",
              "                (&#x27;regresor&#x27;, Lasso())])</pre><b>In a Jupyter environment, please rerun this cell to show the HTML representation or trust the notebook. <br />On GitHub, the HTML representation is unable to render, please try loading this page with nbviewer.org.</b></div><div class=\"sk-container\" hidden><div class=\"sk-item sk-dashed-wrapped\"><div class=\"sk-label-container\"><div class=\"sk-label sk-toggleable\"><input class=\"sk-toggleable__control sk-hidden--visually\" id=\"sk-estimator-id-1\" type=\"checkbox\" ><label for=\"sk-estimator-id-1\" class=\"sk-toggleable__label sk-toggleable__label-arrow\">Pipeline</label><div class=\"sk-toggleable__content\"><pre>Pipeline(steps=[(&#x27;preprocesamiento&#x27;,\n",
              "                 ColumnTransformer(transformers=[(&#x27;passthrough&#x27;, &#x27;passthrough&#x27;,\n",
              "                                                  [&#x27;National_Position&#x27;]),\n",
              "                                                 (&#x27;Scaled&#x27;, StandardScaler(),\n",
              "                                                  [&#x27;Reactions&#x27;, &#x27;Weight&#x27;,\n",
              "                                                   &#x27;Composure&#x27;, &#x27;Balance&#x27;,\n",
              "                                                   &#x27;Aggression&#x27;, &#x27;Strength&#x27;,\n",
              "                                                   &#x27;Jumping&#x27;, &#x27;Agility&#x27;,\n",
              "                                                   &#x27;Volleys&#x27;, &#x27;Height&#x27;,\n",
              "                                                   &#x27;Vision&#x27;, &#x27;Acceleration&#x27;,\n",
              "                                                   &#x27;Speed&#x27;]),\n",
              "                                                 (&#x27;minmax&#x27;, MinMaxScaler(),\n",
              "                                                  [&#x27;Ball_Control&#x27;, &#x27;Dribbling&#x27;,\n",
              "                                                   &#x27;Marking&#x27;...\n",
              "                                                   &#x27;Shot_Power&#x27;, &#x27;Finishing&#x27;,\n",
              "                                                   &#x27;Long_Shots&#x27;, &#x27;Curve&#x27;,\n",
              "                                                   &#x27;Freekick_Accuracy&#x27;,\n",
              "                                                   &#x27;Penalties&#x27;]),\n",
              "                                                 (&#x27;onehot&#x27;,\n",
              "                                                  OneHotEncoder(drop=&#x27;first&#x27;,\n",
              "                                                                sparse=False),\n",
              "                                                  [&#x27;Nationality&#x27;,\n",
              "                                                   &#x27;Club_Position&#x27;,\n",
              "                                                   &#x27;Preffered_Foot&#x27;,\n",
              "                                                   &#x27;Skill_Moves&#x27;]),\n",
              "                                                 (&#x27;categorical&#x27;,\n",
              "                                                  OrdinalEncoder(),\n",
              "                                                  [&#x27;Weak_foot&#x27;, &#x27;Work_Rate&#x27;]),\n",
              "                                                 (&#x27;log&#x27;,\n",
              "                                                  FunctionTransformer(func=&lt;function log_transform at 0x7fcb4c9e7be0&gt;),\n",
              "                                                  [&#x27;Age&#x27;])])),\n",
              "                (&#x27;regresor&#x27;, Lasso())])</pre></div></div></div><div class=\"sk-serial\"><div class=\"sk-item sk-dashed-wrapped\"><div class=\"sk-label-container\"><div class=\"sk-label sk-toggleable\"><input class=\"sk-toggleable__control sk-hidden--visually\" id=\"sk-estimator-id-2\" type=\"checkbox\" ><label for=\"sk-estimator-id-2\" class=\"sk-toggleable__label sk-toggleable__label-arrow\">preprocesamiento: ColumnTransformer</label><div class=\"sk-toggleable__content\"><pre>ColumnTransformer(transformers=[(&#x27;passthrough&#x27;, &#x27;passthrough&#x27;,\n",
              "                                 [&#x27;National_Position&#x27;]),\n",
              "                                (&#x27;Scaled&#x27;, StandardScaler(),\n",
              "                                 [&#x27;Reactions&#x27;, &#x27;Weight&#x27;, &#x27;Composure&#x27;, &#x27;Balance&#x27;,\n",
              "                                  &#x27;Aggression&#x27;, &#x27;Strength&#x27;, &#x27;Jumping&#x27;,\n",
              "                                  &#x27;Agility&#x27;, &#x27;Volleys&#x27;, &#x27;Height&#x27;, &#x27;Vision&#x27;,\n",
              "                                  &#x27;Acceleration&#x27;, &#x27;Speed&#x27;]),\n",
              "                                (&#x27;minmax&#x27;, MinMaxScaler(),\n",
              "                                 [&#x27;Ball_Control&#x27;, &#x27;Dribbling&#x27;, &#x27;Marking&#x27;,\n",
              "                                  &#x27;Sliding_Tackle&#x27;, &#x27;Standing_Tackle&#x27;,...\n",
              "                                  &#x27;Long_Pass&#x27;, &#x27;Stamina&#x27;, &#x27;Heading&#x27;,\n",
              "                                  &#x27;Shot_Power&#x27;, &#x27;Finishing&#x27;, &#x27;Long_Shots&#x27;,\n",
              "                                  &#x27;Curve&#x27;, &#x27;Freekick_Accuracy&#x27;, &#x27;Penalties&#x27;]),\n",
              "                                (&#x27;onehot&#x27;,\n",
              "                                 OneHotEncoder(drop=&#x27;first&#x27;, sparse=False),\n",
              "                                 [&#x27;Nationality&#x27;, &#x27;Club_Position&#x27;,\n",
              "                                  &#x27;Preffered_Foot&#x27;, &#x27;Skill_Moves&#x27;]),\n",
              "                                (&#x27;categorical&#x27;, OrdinalEncoder(),\n",
              "                                 [&#x27;Weak_foot&#x27;, &#x27;Work_Rate&#x27;]),\n",
              "                                (&#x27;log&#x27;,\n",
              "                                 FunctionTransformer(func=&lt;function log_transform at 0x7fcb4c9e7be0&gt;),\n",
              "                                 [&#x27;Age&#x27;])])</pre></div></div></div><div class=\"sk-parallel\"><div class=\"sk-parallel-item\"><div class=\"sk-item\"><div class=\"sk-label-container\"><div class=\"sk-label sk-toggleable\"><input class=\"sk-toggleable__control sk-hidden--visually\" id=\"sk-estimator-id-3\" type=\"checkbox\" ><label for=\"sk-estimator-id-3\" class=\"sk-toggleable__label sk-toggleable__label-arrow\">passthrough</label><div class=\"sk-toggleable__content\"><pre>[&#x27;National_Position&#x27;]</pre></div></div></div><div class=\"sk-serial\"><div class=\"sk-item\"><div class=\"sk-estimator sk-toggleable\"><input class=\"sk-toggleable__control sk-hidden--visually\" id=\"sk-estimator-id-4\" type=\"checkbox\" ><label for=\"sk-estimator-id-4\" class=\"sk-toggleable__label sk-toggleable__label-arrow\">passthrough</label><div class=\"sk-toggleable__content\"><pre>passthrough</pre></div></div></div></div></div></div><div class=\"sk-parallel-item\"><div class=\"sk-item\"><div class=\"sk-label-container\"><div class=\"sk-label sk-toggleable\"><input class=\"sk-toggleable__control sk-hidden--visually\" id=\"sk-estimator-id-5\" type=\"checkbox\" ><label for=\"sk-estimator-id-5\" class=\"sk-toggleable__label sk-toggleable__label-arrow\">Scaled</label><div class=\"sk-toggleable__content\"><pre>[&#x27;Reactions&#x27;, &#x27;Weight&#x27;, &#x27;Composure&#x27;, &#x27;Balance&#x27;, &#x27;Aggression&#x27;, &#x27;Strength&#x27;, &#x27;Jumping&#x27;, &#x27;Agility&#x27;, &#x27;Volleys&#x27;, &#x27;Height&#x27;, &#x27;Vision&#x27;, &#x27;Acceleration&#x27;, &#x27;Speed&#x27;]</pre></div></div></div><div class=\"sk-serial\"><div class=\"sk-item\"><div class=\"sk-estimator sk-toggleable\"><input class=\"sk-toggleable__control sk-hidden--visually\" id=\"sk-estimator-id-6\" type=\"checkbox\" ><label for=\"sk-estimator-id-6\" class=\"sk-toggleable__label sk-toggleable__label-arrow\">StandardScaler</label><div class=\"sk-toggleable__content\"><pre>StandardScaler()</pre></div></div></div></div></div></div><div class=\"sk-parallel-item\"><div class=\"sk-item\"><div class=\"sk-label-container\"><div class=\"sk-label sk-toggleable\"><input class=\"sk-toggleable__control sk-hidden--visually\" id=\"sk-estimator-id-7\" type=\"checkbox\" ><label for=\"sk-estimator-id-7\" class=\"sk-toggleable__label sk-toggleable__label-arrow\">minmax</label><div class=\"sk-toggleable__content\"><pre>[&#x27;Ball_Control&#x27;, &#x27;Dribbling&#x27;, &#x27;Marking&#x27;, &#x27;Sliding_Tackle&#x27;, &#x27;Standing_Tackle&#x27;, &#x27;Interceptions&#x27;, &#x27;Crossing&#x27;, &#x27;Short_Pass&#x27;, &#x27;Long_Pass&#x27;, &#x27;Stamina&#x27;, &#x27;Heading&#x27;, &#x27;Shot_Power&#x27;, &#x27;Finishing&#x27;, &#x27;Long_Shots&#x27;, &#x27;Curve&#x27;, &#x27;Freekick_Accuracy&#x27;, &#x27;Penalties&#x27;]</pre></div></div></div><div class=\"sk-serial\"><div class=\"sk-item\"><div class=\"sk-estimator sk-toggleable\"><input class=\"sk-toggleable__control sk-hidden--visually\" id=\"sk-estimator-id-8\" type=\"checkbox\" ><label for=\"sk-estimator-id-8\" class=\"sk-toggleable__label sk-toggleable__label-arrow\">MinMaxScaler</label><div class=\"sk-toggleable__content\"><pre>MinMaxScaler()</pre></div></div></div></div></div></div><div class=\"sk-parallel-item\"><div class=\"sk-item\"><div class=\"sk-label-container\"><div class=\"sk-label sk-toggleable\"><input class=\"sk-toggleable__control sk-hidden--visually\" id=\"sk-estimator-id-9\" type=\"checkbox\" ><label for=\"sk-estimator-id-9\" class=\"sk-toggleable__label sk-toggleable__label-arrow\">onehot</label><div class=\"sk-toggleable__content\"><pre>[&#x27;Nationality&#x27;, &#x27;Club_Position&#x27;, &#x27;Preffered_Foot&#x27;, &#x27;Skill_Moves&#x27;]</pre></div></div></div><div class=\"sk-serial\"><div class=\"sk-item\"><div class=\"sk-estimator sk-toggleable\"><input class=\"sk-toggleable__control sk-hidden--visually\" id=\"sk-estimator-id-10\" type=\"checkbox\" ><label for=\"sk-estimator-id-10\" class=\"sk-toggleable__label sk-toggleable__label-arrow\">OneHotEncoder</label><div class=\"sk-toggleable__content\"><pre>OneHotEncoder(drop=&#x27;first&#x27;, sparse=False)</pre></div></div></div></div></div></div><div class=\"sk-parallel-item\"><div class=\"sk-item\"><div class=\"sk-label-container\"><div class=\"sk-label sk-toggleable\"><input class=\"sk-toggleable__control sk-hidden--visually\" id=\"sk-estimator-id-11\" type=\"checkbox\" ><label for=\"sk-estimator-id-11\" class=\"sk-toggleable__label sk-toggleable__label-arrow\">categorical</label><div class=\"sk-toggleable__content\"><pre>[&#x27;Weak_foot&#x27;, &#x27;Work_Rate&#x27;]</pre></div></div></div><div class=\"sk-serial\"><div class=\"sk-item\"><div class=\"sk-estimator sk-toggleable\"><input class=\"sk-toggleable__control sk-hidden--visually\" id=\"sk-estimator-id-12\" type=\"checkbox\" ><label for=\"sk-estimator-id-12\" class=\"sk-toggleable__label sk-toggleable__label-arrow\">OrdinalEncoder</label><div class=\"sk-toggleable__content\"><pre>OrdinalEncoder()</pre></div></div></div></div></div></div><div class=\"sk-parallel-item\"><div class=\"sk-item\"><div class=\"sk-label-container\"><div class=\"sk-label sk-toggleable\"><input class=\"sk-toggleable__control sk-hidden--visually\" id=\"sk-estimator-id-13\" type=\"checkbox\" ><label for=\"sk-estimator-id-13\" class=\"sk-toggleable__label sk-toggleable__label-arrow\">log</label><div class=\"sk-toggleable__content\"><pre>[&#x27;Age&#x27;]</pre></div></div></div><div class=\"sk-serial\"><div class=\"sk-item\"><div class=\"sk-estimator sk-toggleable\"><input class=\"sk-toggleable__control sk-hidden--visually\" id=\"sk-estimator-id-14\" type=\"checkbox\" ><label for=\"sk-estimator-id-14\" class=\"sk-toggleable__label sk-toggleable__label-arrow\">FunctionTransformer</label><div class=\"sk-toggleable__content\"><pre>FunctionTransformer(func=&lt;function log_transform at 0x7fcb4c9e7be0&gt;)</pre></div></div></div></div></div></div></div></div><div class=\"sk-item\"><div class=\"sk-estimator sk-toggleable\"><input class=\"sk-toggleable__control sk-hidden--visually\" id=\"sk-estimator-id-15\" type=\"checkbox\" ><label for=\"sk-estimator-id-15\" class=\"sk-toggleable__label sk-toggleable__label-arrow\">Lasso</label><div class=\"sk-toggleable__content\"><pre>Lasso()</pre></div></div></div></div></div></div></div>"
            ]
          },
          "metadata": {},
          "execution_count": 55
        }
      ]
    },
    {
      "cell_type": "code",
      "source": [
        "y_pred = pipe.predict(X_test)"
      ],
      "metadata": {
        "id": "D86F2RobEWNq"
      },
      "execution_count": 56,
      "outputs": []
    },
    {
      "cell_type": "code",
      "source": [
        "from sklearn.metrics import mean_squared_error, r2_score, mean_absolute_error, median_absolute_error\n",
        "\n",
        "def evaluate(y_test, y_pred):\n",
        "\n",
        "    print('MSE:', mean_squared_error(y_test, y_pred), '\\n')\n",
        "    print('RMSE:', mean_squared_error(y_test, y_pred, squared=False))\n",
        "    print('MAE:', mean_absolute_error(y_test, y_pred))\n",
        "    print('MedAE:', median_absolute_error(y_test, y_pred), '\\n')\n",
        "    print('R²:', r2_score(y_test, y_pred))\n",
        "    \n",
        "    \n",
        "evaluate(y_test, y_pred)"
      ],
      "metadata": {
        "id": "LHa0yhkrEXrU",
        "colab": {
          "base_uri": "https://localhost:8080/"
        },
        "outputId": "e98ff7df-c363-4ab2-9726-acb0f2814b7f"
      },
      "execution_count": 57,
      "outputs": [
        {
          "output_type": "stream",
          "name": "stdout",
          "text": [
            "MSE: 4114918624.440407 \n",
            "\n",
            "RMSE: 64147.63147958315\n",
            "MAE: 36076.06277626542\n",
            "MedAE: 23511.342976393105 \n",
            "\n",
            "R²: 0.38171502785948486\n"
          ]
        }
      ]
    },
    {
      "cell_type": "code",
      "source": [
        "df_regresion.shape"
      ],
      "metadata": {
        "id": "KiMtulCYEY9B",
        "colab": {
          "base_uri": "https://localhost:8080/"
        },
        "outputId": "a1caccf4-12d7-41bf-c7e1-8cf4573c8f58"
      },
      "execution_count": 58,
      "outputs": [
        {
          "output_type": "execute_result",
          "data": {
            "text/plain": [
              "(1866, 40)"
            ]
          },
          "metadata": {},
          "execution_count": 58
        }
      ]
    },
    {
      "cell_type": "code",
      "source": [
        "df_regresion['Weekly Salary'].describe()"
      ],
      "metadata": {
        "id": "Q4vTJHekEaJr",
        "colab": {
          "base_uri": "https://localhost:8080/"
        },
        "outputId": "bff262ca-0ee7-42ea-f5c5-7a1e346c8390"
      },
      "execution_count": 59,
      "outputs": [
        {
          "output_type": "execute_result",
          "data": {
            "text/plain": [
              "count    1.866000e+03\n",
              "mean     5.363130e+04\n",
              "std      8.193256e+04\n",
              "min      6.200000e+02\n",
              "25%      1.413700e+04\n",
              "50%      2.940400e+04\n",
              "75%      6.502900e+04\n",
              "max      1.538905e+06\n",
              "Name: Weekly Salary, dtype: float64"
            ]
          },
          "metadata": {},
          "execution_count": 59
        }
      ]
    },
    {
      "cell_type": "markdown",
      "source": [
        "**Respuesta**:\n",
        "Como se puede ver de los resultados, este tiene un  R2  de 0.38, lo que quiere decir que no se esta logrando captar mucha variabilidad del modelo con los coeficientes del regresor estimado. Con respecto a otras métricas como lo puede ser el MAE, se puede ver que el promedio del error en la prediccion esta por los 36076 dolares, siendo que el dataset tiene como valor promedio de los sueldos 53631, esto es mas de la mitad de los sueldos promedio en error promedio, por lo que se puede concluir que el regresor entrenado no es muy confiable. Esto se puede deber a distintas razones, ya sea porque solo 1866 datos, valor relativamente bajo para hacer una regresion de este tipo, como también datos más informativos acerca del jugador que puedan relacionarse con su sueldo, como la liga en la que juega, la cantidad de titulos que ha ganado, entre otros, ya que generalmente en los deportes este tipo de caracteristicas son significativas a la hora de fichar a un jugador."
      ],
      "metadata": {
        "tags": [],
        "cell_id": "bb39f9e88bf04d639ea5d67732450be6",
        "deepnote_cell_type": "markdown",
        "id": "D_7bushu5rqY"
      }
    },
    {
      "cell_type": "markdown",
      "source": [
        "# Conclusión\n",
        "Eso ha sido todo para el lab de hoy, recuerden que el laboratorio tiene un plazo de entrega de una semana. Cualquier duda del laboratorio, no duden en contactarnos por mail o U-cursos.\n",
        "\n",
        "<p align=\"center\">\n",
        "  <img src=\"https://media2.giphy.com/media/l1J3CbFgn5o7DGRuE/giphy.gif\">\n",
        "</p>"
      ],
      "metadata": {
        "id": "Rg4ZMq8ezAH6",
        "cell_id": "502994b597214d4ba2f05e2b900d895c",
        "deepnote_cell_type": "markdown"
      }
    },
    {
      "cell_type": "markdown",
      "source": [
        "<br>\n",
        "<center>\n",
        "<img src=\"https://i.kym-cdn.com/photos/images/original/001/194/195/b18.png\" width=100 height=50 />\n",
        "</center>\n",
        "<br>"
      ],
      "metadata": {
        "id": "wCL1lACBzAH7",
        "cell_id": "da6d643bcf1542a8b119a15edaf0f75c",
        "deepnote_cell_type": "markdown"
      }
    },
    {
      "cell_type": "markdown",
      "source": [
        "<a style='text-decoration:none;line-height:16px;display:flex;color:#5B5B62;padding:10px;justify-content:end;' href='https://deepnote.com?utm_source=created-in-deepnote-cell&projectId=87110296-876e-426f-b91d-aaf681223468' target=\"_blank\">\n",
        "<img alt='Created in deepnote.com' style='display:inline;max-height:16px;margin:0px;margin-right:7.5px;' src='data:image/svg+xml;base64,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' > </img>\n",
        "Created in <span style='font-weight:600;margin-left:4px;'>Deepnote</span></a>"
      ],
      "metadata": {
        "created_in_deepnote_cell": true,
        "deepnote_cell_type": "markdown",
        "id": "G1BAGycv5rqY"
      }
    }
  ],
  "nbformat": 4,
  "nbformat_minor": 0,
  "metadata": {
    "toc": {
      "sideBar": true,
      "nav_menu": {},
      "toc_cell": false,
      "title_cell": "Tabla de Contenidos",
      "toc_position": {
        "top": "150px",
        "left": "10px",
        "width": "241.867px",
        "height": "calc(100% - 180px)"
      },
      "skip_h1_title": true,
      "title_sidebar": "Contenidos",
      "base_numbering": 1,
      "number_sections": true,
      "toc_window_display": true,
      "toc_section_display": true
    },
    "colab": {
      "provenance": []
    },
    "deepnote": {},
    "kernelspec": {
      "name": "python3",
      "language": "python",
      "display_name": "Python 3"
    },
    "varInspector": {
      "cols": {
        "lenVar": 40,
        "lenName": 16,
        "lenType": 16
      },
      "kernels_config": {
        "r": {
          "library": "var_list.r",
          "varRefreshCmd": "cat(var_dic_list()) ",
          "delete_cmd_prefix": "rm(",
          "delete_cmd_postfix": ") "
        },
        "python": {
          "library": "var_list.py",
          "varRefreshCmd": "print(var_dic_list())",
          "delete_cmd_prefix": "del ",
          "delete_cmd_postfix": ""
        }
      },
      "window_display": false,
      "types_to_exclude": [
        "module",
        "function",
        "builtin_function_or_method",
        "instance",
        "_Feature"
      ]
    },
    "language_info": {
      "name": "python",
      "version": "3.8.3",
      "mimetype": "text/x-python",
      "file_extension": ".py",
      "pygments_lexer": "ipython3",
      "codemirror_mode": {
        "name": "ipython",
        "version": 3
      },
      "nbconvert_exporter": "python"
    },
    "deepnote_notebook_id": "41ad7e529bfb484c8f7f538003203695",
    "deepnote_execution_queue": []
  }
}