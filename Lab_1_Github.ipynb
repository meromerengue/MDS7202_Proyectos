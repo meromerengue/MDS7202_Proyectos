{
  "nbformat": 4,
  "nbformat_minor": 0,
  "metadata": {
    "colab": {
      "provenance": []
    },
    "kernelspec": {
      "name": "python3",
      "display_name": "Python 3"
    },
    "language_info": {
      "name": "python"
    }
  },
  "cells": [
    {
      "cell_type": "markdown",
      "source": [
        "<h1><center>Laboratorio 1: Git 👾</center></h1>\n",
        "\n",
        "<center><strong>MDS7202: Laboratorio de Programación Científica para Ciencia de Datos - Otoño 2023</strong></center>"
      ],
      "metadata": {
        "id": "J4_IcuuKZj9Y"
      }
    },
    {
      "cell_type": "markdown",
      "source": [
        "### Cuerpo Docente:\n",
        "\n",
        "- Profesores: Pablo Badilla, Ignacio Meza D.\n",
        "- Auxiliar: Sebastián Tinoco\n",
        "- Ayudante: Diego Cortez"
      ],
      "metadata": {
        "id": "AEXIACc7aADv"
      }
    },
    {
      "cell_type": "markdown",
      "source": [
        "### Equipo: Blasfemia\n",
        "- Nombre de alumno 1: Lennin Chamorro\n",
        "- Nombre de alumno 2: Martin Reyes"
      ],
      "metadata": {
        "id": "0HgMMyoCaG8X"
      }
    },
    {
      "cell_type": "markdown",
      "source": [
        "### **Link de repositorio de GitHub:** \n",
        "https://github.com/meromerengue/meromerengue   \n",
        "https://github.com/Landilus/Landilus"
      ],
      "metadata": {
        "id": "fz77X6glaK6y"
      }
    },
    {
      "cell_type": "markdown",
      "source": [
        "## Reglas:\n",
        "\n",
        "- Fecha de entrega: 6 días desde la publicación, 3 días de atraso con 1 punto de descuento c/u. Pueden utilizar días bonus sin descuento.\n",
        "- **Grupos de 2 personas**.\n",
        "- **Ausentes** deberán realizar la actividad solos. \n",
        "- Cualquier duda fuera del horario de clases al foro. Mensajes al equipo docente serán respondidos por este medio.\n",
        "- <u>Prohibidas las copias</u>. Cualquier intento de copia será debidamente penalizado con el reglamento de la escuela.\n",
        "- Pueden usar cualquer material del curso que estimen conveniente.\n",
        "- Asistencia obligatoria a instrucciones del lab (viernes 16.15). Luego, pueden quedarse trabajando en las salas o irse."
      ],
      "metadata": {
        "id": "rRwqaxIZaNx3"
      }
    },
    {
      "cell_type": "markdown",
      "source": [
        "## Objetivos del lab:\n",
        "\n",
        "\n",
        "- Conocer los elementos básicos que conformar `Git`\n",
        "- Clonar repositorios\n",
        "- Identificar ramas de un repositorio\n",
        "- Reconocer y solucionar problemas entre ramas\n",
        "- Subir cambios a un repositorio"
      ],
      "metadata": {
        "id": "bmToL27JaSrf"
      }
    },
    {
      "cell_type": "markdown",
      "source": [
        "## Parte 1: Conocimiento Teórico (2 pts)"
      ],
      "metadata": {
        "id": "bvnPCvrVbJLK"
      }
    },
    {
      "cell_type": "markdown",
      "source": [
        "Responda las siguientes preguntas (0.2 pts c/u):\n",
        "\n",
        "1. ¿Qué es `Git` y cómo se relaciona con el control de versiones?\n",
        "\n",
        "  R: Git es un sistema de control de versiones distribuído que crea un repositorio de almacenamiento local en el que se nos permite ir registrando los cambios que sufren los archivos de código que trabajamos, permitiendo acceder a diferentes versiones de estos mismos.\n",
        "\n",
        "\n",
        "2. Nombre y explique 3 diferencias entre `Git` y `Github`.\n",
        "\n",
        "  R: Github es un sitio \"social coding\" el cual permite subir repositorios de código para almacenarlo en el sistema de control de versiones de Git.\n",
        "  Git es una herramienta de linea de comando, mientras que github es una interfaz que nos permite alojar copias de los repositorios de git.\n",
        "\n",
        "3. ¿Qué es un `hash` y cómo se representa en un `commit`? De un ejemplo.\n",
        "\n",
        "  R: HASH es un codigo de 40 caracteres que permite identificar alguno de los elementos presentes en git como los blobs, los commits o los arboles. En git se utiliza el formato SHA1. Un commit se puede representar utilizando los 6 primeros digitos de un sha\n",
        "\n",
        "  Ejemplo de sha: `yrtfqgvedb091jq20hnbfciokj19jdlm109yg8h8`\n",
        "  ejemplo de commit: `yrtfqg`\n",
        "\n",
        "\n",
        "4. ¿Que elementos componen a la estructura de datos de `Git`?\n",
        "\n",
        "  R: La estructura de datos de git tiene como unidad basica los blobs, que son donde se almacenan los archivos completos cada vez que sufren un cambio.\n",
        "  A continuación surgen los arboles, los cuales representan direcciones donde estan almacenados los blobs o incluso otros arboles.\n",
        "  El commit representa una fotografia la cual agrupa los blobs y arboles que componen una captura especifica del proyecto. \n",
        "\n",
        "\n",
        "5. ¿Que comandos de `Git` sirven para crear un repositorio y hacer seguimiento a cambios en los archivos?\n",
        "\n",
        "  R: Para crear el repositorio utilizamos el comando `Git init miprimerepo` y para hacer seguimiento utilizamos el comando `Git Log` que nos permite ver los cambios que se han hecho en los archivos.\n"
      ],
      "metadata": {
        "id": "JHl-24XnbNLF"
      }
    },
    {
      "cell_type": "markdown",
      "source": [
        "Responda si las siguientes afirmaciones son Verdaderas (V) o Falsas (F). Justifique en **cualquiera** de los casos (0.2 pts c/u):\n",
        "\n",
        "\n",
        "6. `Git` siempre resuelve automáticamente los problemas de lineas al hacer merge entre diferentes ramas.\n",
        "  \n",
        "  R: Falso; en caso de haber diferencias entre ramas al hacer un merge se genera un conflicto el cual debe ser resuelto manualmente.\n",
        "\n",
        "7. Ejecutar `git pull` sobre un repositorio es equivalente a ejecutar `git clone`.\n",
        "\n",
        "  R: Falso; solicitar git pull acualiza tu versión existente a la más reciente del repositorio, mientras que clone hace una descarga desde cero sin considerar si ya existia una versión previa en tu sistema.\n",
        "\n",
        "8. Cada miembro del equipo trabaja en la misma copia del código fuente usando `Git`.\n",
        "\n",
        "  R: Falso; cada miembro al usar git genera una copia propia sobre la cual trabajar, que es diferente a la guardada en el repositorio como primera versión.\n",
        "\n",
        "9. En `Git` es posible deshacer cambios y volver a versiones anteriores del código.\n",
        "\n",
        "  R: Verdadero; Esa es precisamente la funcion de tener un control de versiones, poder recuperar las versiones antiguas de un codigo.\n",
        "\n",
        "10. El comando `git commit` se utiliza para enviar cambios al repositorio remoto.\n",
        "\n",
        "  R: Falso, el comando commit permite guardar los cambios en el repositorio local. Para guardar luego esos cambios en el repositorio remoto se utiliza el comando `git push`\n"
      ],
      "metadata": {
        "id": "MACccbP4gU43"
      }
    },
    {
      "cell_type": "markdown",
      "source": [
        "## Parte 2: Creando una presentación personal (2 pts)"
      ],
      "metadata": {
        "id": "i7Em9JkbbRLo"
      }
    },
    {
      "cell_type": "markdown",
      "source": [
        "Para empezar a \"*soltar las manos*\" con `Git`, se les encomienda crear un repositorio con una presentación personal. El repositorio debe contener un breve resumen de quienes son ustedes, sus gustos, experiencias, y cualquier otro detalle interesante que ustedes consideren relevante. \n",
        "\n",
        "Para realizar esto, deben seguir los siguientes pasos:\n",
        "\n",
        "1. Contar con una cuenta de github (1 por persona)\n",
        "2. Crear un repositorio con su nombre de usuario\n",
        "3. Crear y modificar un archivo `readme.md` con la información que ustedes deseen compartir.\n",
        "\n",
        "A modo de ejemplo, pueden guiarse por esta *suculenta* [presentación](https://github.com/pbadillatorrealba/pbadillatorrealba).\n",
        "\n",
        "*Hint: Una buena opción es usar templates de presentación personal que encuentren en Google, como los que ofrece este [sitio](https://durgeshsamariya.github.io/awesome-github-profile-readme-templates/#/)*.\n",
        "\n",
        "**Entregable:**\n",
        "\n",
        "Enlace al repositorio con la presentación personal. \n",
        "\n",
        "IMPORTANTE: DEBEN ADJUNTAR UN ENLACE POR PERSONA"
      ],
      "metadata": {
        "id": "XWIHfyrlbYOJ"
      }
    },
    {
      "cell_type": "markdown",
      "source": [
        "<code>Link Presentacion 1:</code> https://github.com/Landilus/Landilus/blob/main/README.md\n",
        "\n",
        "<code>Link Presentacion 2:</code> https://github.com/meromerengue/meromerengue/blob/main/README.md"
      ],
      "metadata": {
        "id": "IIkWyl9tf0Sg"
      }
    },
    {
      "cell_type": "markdown",
      "source": [
        "## Parte 3: Trabajando sobre un repositorio externo (2 pts)"
      ],
      "metadata": {
        "id": "CAzXOwvDY-IG"
      }
    },
    {
      "cell_type": "markdown",
      "source": [
        "Tras muchos dolores de cabeza, un grupo de entusiastas académicos decidieron aprender sobre `Git` y así trabajar colaborativamente de forma más ordenada y eficiente. Después de una infinidad de intentos y aprender de sus errores \"*a la mala*\", los académicos lograron levantar un [repositorio](https://github.com/MDS7202/lab1) en `Github`. Usando el repositorio de los académicos, responda las siguientes preguntas (incluya también los comandos en `Git` ocupados):"
      ],
      "metadata": {
        "id": "84Yjuxxvdfzh"
      }
    },
    {
      "cell_type": "markdown",
      "source": [
        "1. Clone el repositorio a su ambiente local. (0.25 pts)"
      ],
      "metadata": {
        "id": "BFRnAw0rfguR"
      }
    },
    {
      "cell_type": "markdown",
      "source": [
        "<code>Escriba sus respuestas acá:</code> `gh repo clone MDS7202/lab1`"
      ],
      "metadata": {
        "id": "KXro32yBeilN"
      }
    },
    {
      "cell_type": "markdown",
      "source": [
        "2. Inspeccione brevemente el repositorio: ¿Cual es el objetivo del proyecto? Explique brevemente la estructura del proyecto, asi como también de cada componente que lo conforma. (0.25 pts)"
      ],
      "metadata": {
        "id": "q2qmiDyjt2M_"
      }
    },
    {
      "cell_type": "markdown",
      "source": [
        "<code>El proyecto tiene objetivo replicar los sonidos de los animales, y se incluye un readme, y 2 archivos .py con la funcion de reconocimiento del animal y un main para iniciar el programa:</code> "
      ],
      "metadata": {
        "id": "aBHpR8VTftkT"
      }
    },
    {
      "cell_type": "markdown",
      "source": [
        "3. Identifique los últimos cambios al repositorio, reconociendo las principales ramas de trabajo. ¿Son informativos los `commit` realizados? (0.25 pts)\n",
        "*Hint: Se recomienda usar los argumentos `all`, `graph` y `decorate`*"
      ],
      "metadata": {
        "id": "XFwqcpLZfylf"
      }
    },
    {
      "cell_type": "markdown",
      "source": [
        "<code> El repositorio inicia con un primer commit hecho por sebastian quien a continuación agrega un segundo cambio generando la función animales, pero comete un error en la programación.\n",
        "Posteriormente el 23 de marzo se crean 2 ramas diferentes, una nueva rama por el author mezosky quien propone separar el proyecto en modulos y Pablo badilla quien se da cuenta del error crea otra brach llamada fix-ifs para solucionar el problema, la rama de mezosky se termina uniendo a la rama principal con merge.\n",
        "Los comentarios de algunos commits si son informativos, pero los commits de sebastian podrían aportar más información aún, por ejemplo el proposito de la nueva función o cambiar primer commit por una descripcion de lo realizado, para esto se podría usar el bloque extendido de descripción del commit ya que al ser los primeros commits de un proyecto debieran tener más información acerca de que se tratará todo el repositorio.\n",
        "  </code>"
      ],
      "metadata": {
        "id": "cmWfXBkOhog0"
      }
    },
    {
      "cell_type": "markdown",
      "source": [
        "4. Uno de los académicos se da cuenta que la rama principal de trabajo no se ejecuta correctamente para todos los argumentos. Señale el error en el código e identifique a la persona que lo cometió usando `git blame` (0.25 pts)\n",
        "\n",
        "*Hint: Le puede ser útil esta [documentación](https://www.atlassian.com/es/git/tutorials/inspecting-a-repository/git-blame).*"
      ],
      "metadata": {
        "id": "Vqbj9HdXrUnN"
      }
    },
    {
      "cell_type": "markdown",
      "source": [
        "<code> El error cometido fue que no utilizo correctamente los comando de control de flujo de python, Los comandos IF se ejecutan una tras otro en lugar de ejecutarse solo el que cumple con el las condiciones del nombre del animal entregado por los usuarios. El usuario responsable de tremenda atrocidad de codigo fue **Seba** y Mezosky no lo reparo cuando hizo la separación.</code>"
      ],
      "metadata": {
        "id": "5ajhV2Iar3tV"
      }
    },
    {
      "cell_type": "markdown",
      "source": [
        "5. Busque los siguientes `commit`:\n",
        "\n",
        "- `c8b1a62d7299552b0654f930d695b33109214111`\n",
        "- `362fe21ee44f53ee944cee4ba484600308f83d78`\n",
        "- `25543a3baf77292baf849726784ca005473acab1`\n",
        "\n",
        "¿Qué diferencias existen entre cada uno? (0.25 pts)"
      ],
      "metadata": {
        "id": "m8J3uE7MhqTA"
      }
    },
    {
      "cell_type": "markdown",
      "source": [
        "<code>Escriba sus respuestas acá:</code>\n",
        "\n",
        "- `c8b1a62d7299552b0654f930d695b33109214111`: Commit que agrega la funcion que retorna los sonidos de animales a archivo main.py (Se encuentra en la rama main)\n",
        "- `362fe21ee44f53ee944cee4ba484600308f83d78`: Commit que crea archivo animales.py y traslada la funcion creada en el commit `c8b1a62` de main.py a animales.py (Se encuentra en la rama main)\n",
        "- `25543a3baf77292baf849726784ca005473acab1`: Commit que crea una nueva rama llamada fix-ifs que crea una copia de la version de main.py de `c8b1a62` y le modifica los errores de los ifs que tenía."
      ],
      "metadata": {
        "id": "sNHnZsgIitGh"
      }
    },
    {
      "cell_type": "markdown",
      "source": [
        "6. Realice una `merge` de la rama `fix-ifs` con la rama `main` y describa lo que ocurre. ¿Qué parte del código podría estar ocasionando esto? (0.25 pts)"
      ],
      "metadata": {
        "id": "WQIPbfNCgpxC"
      }
    },
    {
      "cell_type": "markdown",
      "source": [
        "<code>Escriba sus respuestas acá:</code>\n",
        "\n",
        "El merge encuentra un conflicto que debe ser solucionado manuealmente. Se está tratando de fusionar la ultima version de main.py que eliminó la fusion de la funcion definida animales, mientras que fix-ifs es una correccion de esta funcion, pero que se hizo sobre una versión anterior en la cual aún no se hacia la separacion del codigo en 2 archivos. Aún no se ha aceptado ninguno de estos cambios"
      ],
      "metadata": {
        "id": "ypH_6lL5ioZz"
      }
    },
    {
      "cell_type": "markdown",
      "source": [
        "7. Cree una rama nueva y proponga una solución al problema anterior, adjuntando el código corregido y señalando las líneas modificadas. (0.5 pts)"
      ],
      "metadata": {
        "id": "GYfODCjeivkU"
      }
    },
    {
      "cell_type": "markdown",
      "source": [
        "La solucion propuesta es generar una nueva rama sobre la ultima versión de la rama principal en donde ya se hizo la separación de la función animales a un archivo diferente y sobre esta hacer las modificaciones en los ifs. Para esto se realizo lo siguiente:\n",
        "\n",
        "Se creo una nueva rama llamada Try utilizando el comando git branch try para luego cambiarnos a esta rama usando git checkout try.\n",
        "\n",
        "Una vez en la rama nueva vamos a los archivos y modificamos el segundo y tercer if por elif:\n",
        "\n",
        "def animales(input):\n",
        "    \n",
        "    '''\n",
        "    Como hace el animalito?\n",
        "    '''\n",
        "    \n",
        "    if input.lower() == 'gato':\n",
        "        print('miau')\n",
        "    elif input.lower() == 'perro':\n",
        "        print('guau')\n",
        "    elif input.lower() == 'fox':\n",
        "        print('https://www.youtube.com/watch?v=jofNR_WkoCE')\n",
        "    else:\n",
        "        raise ValueError('animal no reconocido :(')\n",
        "\n",
        "Habiendo hecho los cambios volvemos al cuadro de comandos y creamos un nuevo commit usando el comando git commit -m \"arreglando los if en archivo animales\"\n",
        "\n",
        "Una vez se han guardado los cambios volvemos a la rama principal con git checkout main\n",
        "\n",
        "Ya se encuentra todo listo para realizar un git merge try para hacer hacer la fusión.\n"
      ],
      "metadata": {
        "id": "8heBxDU9iziT"
      }
    },
    {
      "cell_type": "markdown",
      "source": [
        "![image.png](data:image/png;base64,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)"
      ],
      "metadata": {
        "id": "RV-zV4V0R5_S"
      }
    },
    {
      "cell_type": "markdown",
      "source": [
        "## Fin"
      ],
      "metadata": {
        "id": "Av8ebB9jkALO"
      }
    },
    {
      "cell_type": "markdown",
      "source": [
        "Eso ha sido todo por ahora!! Esperamos que este laboratorio les haya gustado y servido para trabajar con `Git`. Recuerden los dias de plazo que tienen disponibles y que ante cualquier duda no duden en contactar al equipo docente. \n",
        "\n",
        "Nos vemos!! \n",
        "\n",
        "<img src=https://media.tenor.com/OYLdav9k9LkAAAAd/kitty-cat.gif height=300>\n"
      ],
      "metadata": {
        "id": "aQqZT9fSkBK8"
      }
    }
  ]
}